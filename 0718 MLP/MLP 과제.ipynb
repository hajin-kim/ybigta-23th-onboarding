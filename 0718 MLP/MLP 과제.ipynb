{
    "cells": [
        {
            "cell_type": "markdown",
            "metadata": {
                "id": "4sSY3DjNbPEa"
            },
            "source": [
                "### 필요 Package download\n"
            ]
        },
        {
            "cell_type": "code",
            "execution_count": 1,
            "metadata": {
                "executionInfo": {
                    "elapsed": 5669,
                    "status": "ok",
                    "timestamp": 1690173970613,
                    "user": {
                        "displayName": "김수환",
                        "userId": "10118309929059197359"
                    },
                    "user_tz": -540
                },
                "id": "PK3bVKuBcbZ6"
            },
            "outputs": [],
            "source": [
                "import torch\n",
                "import torchvision\n",
                "import torchvision.transforms as transforms"
            ]
        },
        {
            "cell_type": "code",
            "execution_count": 2,
            "metadata": {
                "colab": {
                    "base_uri": "https://localhost:8080/"
                },
                "executionInfo": {
                    "elapsed": 4,
                    "status": "ok",
                    "timestamp": 1690173975059,
                    "user": {
                        "displayName": "김수환",
                        "userId": "10118309929059197359"
                    },
                    "user_tz": -540
                },
                "id": "B7Jp6DQLn3sz",
                "outputId": "d3d81293-947c-41f6-aa95-60ad96c6c4f2"
            },
            "outputs": [
                {
                    "name": "stdout",
                    "output_type": "stream",
                    "text": [
                        "cuda\n"
                    ]
                }
            ],
            "source": [
                "device = torch.device(\"cuda\" if torch.cuda.is_available() else \"cpu\")\n",
                "\n",
                "# 현재 gpu를 사용중이면 cuda로 출력됩니다!:\n",
                "# gpu 변경은 런타임 -> 런타임 유형변경 -> 하드웨어 가속기: GPU로 할 수 있습니다.\n",
                "\n",
                "print(device)"
            ]
        },
        {
            "cell_type": "markdown",
            "metadata": {
                "id": "W9v_beLpA34L"
            },
            "source": [
                "## 데이터 부연설명\n",
                "\n",
                "- 저희가 사용할 dataset은 cifar-10이라는 이름을 가진, 컬러 이미지 데이터 60,000개가 들어있는\n",
                "  dataset입니다. <br>\n",
                "- 해당 dataset은 총 10개의 class로 나누어져 있으며, 이 task는 각 이미지에 대한 class의 분류 accuracy를 높이는 것이 목적입니다.\n"
            ]
        },
        {
            "cell_type": "markdown",
            "metadata": {
                "id": "Z8e8Z-lhhxZ7"
            },
            "source": [
                "### Data Normalize & DataLoader Settting\n"
            ]
        },
        {
            "cell_type": "code",
            "execution_count": 3,
            "metadata": {
                "colab": {
                    "base_uri": "https://localhost:8080/"
                },
                "executionInfo": {
                    "elapsed": 17567,
                    "status": "ok",
                    "timestamp": 1690173999312,
                    "user": {
                        "displayName": "김수환",
                        "userId": "10118309929059197359"
                    },
                    "user_tz": -540
                },
                "id": "itmleb14cdyh",
                "outputId": "f707a75c-c21a-4e5f-f817-120f5830262c"
            },
            "outputs": [
                {
                    "name": "stdout",
                    "output_type": "stream",
                    "text": [
                        "Downloading https://www.cs.toronto.edu/~kriz/cifar-10-python.tar.gz to ./data/cifar-10-python.tar.gz\n"
                    ]
                },
                {
                    "name": "stderr",
                    "output_type": "stream",
                    "text": [
                        "100%|██████████| 170498071/170498071 [00:12<00:00, 13260437.49it/s]\n"
                    ]
                },
                {
                    "name": "stdout",
                    "output_type": "stream",
                    "text": [
                        "Extracting ./data/cifar-10-python.tar.gz to ./data\n",
                        "Files already downloaded and verified\n"
                    ]
                }
            ],
            "source": [
                "transform = transforms.Compose(\n",
                "    [transforms.ToTensor(), transforms.Normalize((0.5, 0.5, 0.5), (0.5, 0.5, 0.5))]\n",
                ")\n",
                "\n",
                "trainset = torchvision.datasets.CIFAR10(\n",
                "    root=\"./data\", train=True, download=True, transform=transform\n",
                ")\n",
                "trainloader = torch.utils.data.DataLoader(\n",
                "    trainset, batch_size=4, shuffle=True, num_workers=2\n",
                ")\n",
                "\n",
                "testset = torchvision.datasets.CIFAR10(\n",
                "    root=\"./data\", train=False, download=True, transform=transform\n",
                ")\n",
                "testloader = torch.utils.data.DataLoader(\n",
                "    testset, batch_size=4, shuffle=False, num_workers=2\n",
                ")\n",
                "\n",
                "classes = (\n",
                "    \"plane\",\n",
                "    \"car\",\n",
                "    \"bird\",\n",
                "    \"cat\",\n",
                "    \"deer\",\n",
                "    \"dog\",\n",
                "    \"frog\",\n",
                "    \"horse\",\n",
                "    \"ship\",\n",
                "    \"truck\",\n",
                ")"
            ]
        },
        {
            "cell_type": "code",
            "execution_count": 4,
            "metadata": {
                "colab": {
                    "base_uri": "https://localhost:8080/",
                    "height": 211
                },
                "executionInfo": {
                    "elapsed": 35,
                    "status": "ok",
                    "timestamp": 1690173999312,
                    "user": {
                        "displayName": "김수환",
                        "userId": "10118309929059197359"
                    },
                    "user_tz": -540
                },
                "id": "ViOCagdocmEt",
                "outputId": "53de978b-23d1-4916-fc6b-a21b96f24cfe"
            },
            "outputs": [
                {
                    "name": "stdout",
                    "output_type": "stream",
                    "text": [
                        "horse truck  frog   dog\n"
                    ]
                },
                {
                    "data": {
                        "image/png": "[encoded data removed]",
                        "text/plain": [
                            "<Figure size 640x480 with 1 Axes>"
                        ]
                    },
                    "metadata": {},
                    "output_type": "display_data"
                }
            ],
            "source": [
                "import matplotlib.pyplot as plt\n",
                "import numpy as np\n",
                "\n",
                "# 이미지를 보여주기 위한 함수\n",
                "\n",
                "\n",
                "def imshow(img):\n",
                "    img = img / 2 + 0.5  # 표준화 해제\n",
                "    npimg = img.numpy()\n",
                "    plt.imshow(np.transpose(npimg, (1, 2, 0)))\n",
                "\n",
                "\n",
                "# 학습용 이미지를 무작위로 가져오기\n",
                "dataiter = iter(trainloader)\n",
                "images, labels = dataiter.__next__()\n",
                "\n",
                "# 이미지 보여주기\n",
                "imshow(torchvision.utils.make_grid(images))\n",
                "# 정답(label) 출력\n",
                "print(\" \".join(\"%5s\" % classes[labels[j]] for j in range(4)))\n",
                "plt.show()"
            ]
        },
        {
            "cell_type": "code",
            "execution_count": 21,
            "metadata": {
                "executionInfo": {
                    "elapsed": 2,
                    "status": "ok",
                    "timestamp": 1690174969116,
                    "user": {
                        "displayName": "김수환",
                        "userId": "10118309929059197359"
                    },
                    "user_tz": -540
                },
                "id": "TQsfjGTWcm-i"
            },
            "outputs": [],
            "source": [
                "import torch.nn as nn\n",
                "import torch.nn.functional as F\n",
                "\n",
                "\n",
                "# 해당 부분은 어느 정도 CNN의 개념이 포함되어 있습니다! 과제를 수행하는데 아무 관련도 없으니 그대로 두시면 됩니다!\n",
                "class Net(nn.Module):\n",
                "    def __init__(self):\n",
                "        super(Net, self).__init__()\n",
                "        self.conv1 = nn.Conv2d(3, 6, 5)  # input channels, output channels, kernel size\n",
                "        self.pool = nn.MaxPool2d(2, 2)  # kernel size, stride, padding = 0 (default)\n",
                "        self.conv2 = nn.Conv2d(6, 16, 5)\n",
                "        # 아래 부분의 코드를 수정 혹은 추가해주시면 됩니다! (layer를 추가할때는 self.fc'num'=nn.Linear(x,y)의 형태로 추가하시면 됩니다!)\n",
                "        self.fc1 = nn.Linear(400, 120)  # input features, output features\n",
                "        self.fc2 = nn.Linear(120, 48)\n",
                "        self.fc3 = nn.Linear(48, 10)\n",
                "\n",
                "    def forward(self, x):\n",
                "        x = self.pool(F.relu(self.conv1(x)))\n",
                "        x = self.pool(F.relu(self.conv2(x)))\n",
                "        x = x.view(-1, 16 * 5 * 5)\n",
                "        # 아래 부분에서 코드를 수정하거나 추가하여 forward 함수를 새롭게 지정해주시기 바랍니다!\n",
                "        # Hint: relu 함수는 출력층을 제외한 모든 층에서 활성화 함수로써 작동되어야 합니다.\n",
                "        x = F.relu(self.fc1(x))\n",
                "        x = F.relu(self.fc2(x))\n",
                "        x = self.fc3(x)\n",
                "        return x\n",
                "\n",
                "\n",
                "net = Net()"
            ]
        },
        {
            "cell_type": "code",
            "execution_count": 22,
            "metadata": {
                "executionInfo": {
                    "elapsed": 3,
                    "status": "ok",
                    "timestamp": 1690174974671,
                    "user": {
                        "displayName": "김수환",
                        "userId": "10118309929059197359"
                    },
                    "user_tz": -540
                },
                "id": "HmJhscg1dIhs"
            },
            "outputs": [],
            "source": [
                "import torch.optim as optim\n",
                "\n",
                "# optimizer를 변경하거나 수치를 조정해보는 것도 accuracy를 높이는 데 도움을 줄 수 있습니다!\n",
                "criterion = nn.CrossEntropyLoss()\n",
                "optimizer = optim.SGD(net.parameters(), lr=0.001, momentum=0.9)"
            ]
        },
        {
            "cell_type": "code",
            "execution_count": 23,
            "metadata": {
                "colab": {
                    "base_uri": "https://localhost:8080/"
                },
                "executionInfo": {
                    "elapsed": 245467,
                    "status": "ok",
                    "timestamp": 1690175222954,
                    "user": {
                        "displayName": "김수환",
                        "userId": "10118309929059197359"
                    },
                    "user_tz": -540
                },
                "id": "wpAa24bGdT3_",
                "outputId": "bb2074d3-aaf5-4f1d-a831-d9ebf824444c"
            },
            "outputs": [
                {
                    "name": "stdout",
                    "output_type": "stream",
                    "text": [
                        "[1,  2000] epoch loss: 2.064\n",
                        "[1,  4000] epoch loss: 1.835\n",
                        "[1,  6000] epoch loss: 1.762\n",
                        "[1,  8000] epoch loss: 1.664\n",
                        "[1, 10000] epoch loss: 1.599\n",
                        "[1, 12000] epoch loss: 1.567\n",
                        "[2,  2000] epoch loss: 1.527\n",
                        "[2,  4000] epoch loss: 1.494\n",
                        "[2,  6000] epoch loss: 1.456\n",
                        "[2,  8000] epoch loss: 1.444\n",
                        "[2, 10000] epoch loss: 1.417\n",
                        "[2, 12000] epoch loss: 1.398\n",
                        "[3,  2000] epoch loss: 1.353\n",
                        "[3,  4000] epoch loss: 1.342\n",
                        "[3,  6000] epoch loss: 1.351\n",
                        "[3,  8000] epoch loss: 1.333\n",
                        "[3, 10000] epoch loss: 1.331\n",
                        "[3, 12000] epoch loss: 1.303\n",
                        "Finished Training\n"
                    ]
                }
            ],
            "source": [
                "for epoch in range(\n",
                "    1\n",
                "):  # 데이터셋을 n차례 반복하여 학습합니다. 또한 range 속의 숫자도 바꾸어 학습률을 높이는 것도 도움이 될 겁니다!\n",
                "    running_loss = 0.0\n",
                "    for i, data in enumerate(trainloader, 0):\n",
                "        # 입력을 받은 후\n",
                "        inputs, labels = data\n",
                "        # 변화도(Gradient) 매개변수를 0으로 만든 후\n",
                "        optimizer.zero_grad()\n",
                "\n",
                "        # 순전파 + 역전파 + 최적화\n",
                "        outputs = net(inputs)\n",
                "        loss = criterion(outputs, labels)\n",
                "        loss.backward()\n",
                "        optimizer.step()\n",
                "\n",
                "        # 통계 출력\n",
                "\n",
                "        running_loss += loss.item()\n",
                "        # 2000개의 data를 학습할때마다 loss 출력\n",
                "        if (\n",
                "            i % 2000 == 1999\n",
                "        ):  # % 뒤에 들어갈 숫자의 크기를 조정하여 batch_size를 조정할 수 있습니다! 그리고 i % n == n-1:로 숫자를 맞춰주셔야 한다는 점 잊지 마세요!\n",
                "            print(\n",
                "                \"[%d, %5d] epoch loss: %.3f\" % (epoch + 1, i + 1, running_loss / 2000)\n",
                "            )  # running_loss 우측의 숫자 역시 윗줄에서 바꾼 batch_size로 바꿔주어야 합니다!\n",
                "            running_loss = 0.0\n",
                "\n",
                "print(\"Finished Training\")"
            ]
        },
        {
            "cell_type": "code",
            "execution_count": 24,
            "metadata": {
                "colab": {
                    "base_uri": "https://localhost:8080/",
                    "height": 211
                },
                "executionInfo": {
                    "elapsed": 550,
                    "status": "ok",
                    "timestamp": 1690175226509,
                    "user": {
                        "displayName": "김수환",
                        "userId": "10118309929059197359"
                    },
                    "user_tz": -540
                },
                "id": "rNF7TthMfA37",
                "outputId": "7463bf75-af4a-40a6-f0a5-0c3b191da4bc"
            },
            "outputs": [
                {
                    "name": "stdout",
                    "output_type": "stream",
                    "text": [
                        "GroundTruth:    cat  ship  ship plane\n"
                    ]
                },
                {
                    "data": {
                        "image/png": "[encoded data removed]",
                        "text/plain": [
                            "<Figure size 640x480 with 1 Axes>"
                        ]
                    },
                    "metadata": {},
                    "output_type": "display_data"
                }
            ],
            "source": [
                "dataiter = iter(testloader)\n",
                "images, labels = dataiter.__next__()\n",
                "\n",
                "# print images\n",
                "imshow(torchvision.utils.make_grid(images))\n",
                "print(\"GroundTruth: \", \" \".join(\"%5s\" % classes[labels[j]] for j in range(4)))\n",
                "plt.show()"
            ]
        },
        {
            "cell_type": "code",
            "execution_count": 25,
            "metadata": {
                "colab": {
                    "base_uri": "https://localhost:8080/"
                },
                "executionInfo": {
                    "elapsed": 1,
                    "status": "ok",
                    "timestamp": 1690175229496,
                    "user": {
                        "displayName": "김수환",
                        "userId": "10118309929059197359"
                    },
                    "user_tz": -540
                },
                "id": "NJqS91M8hYv1",
                "outputId": "3049eb60-f6b9-437b-c763-4d3d2ee75a3b"
            },
            "outputs": [
                {
                    "name": "stdout",
                    "output_type": "stream",
                    "text": [
                        "Predicted:    cat  ship  ship plane\n"
                    ]
                }
            ],
            "source": [
                "outputs = net(images)\n",
                "_, predicted = torch.max(outputs, 1)\n",
                "\n",
                "print(\"Predicted: \", \" \".join(\"%5s\" % classes[predicted[j]] for j in range(4)))"
            ]
        },
        {
            "cell_type": "code",
            "execution_count": 26,
            "metadata": {
                "colab": {
                    "base_uri": "https://localhost:8080/"
                },
                "executionInfo": {
                    "elapsed": 9326,
                    "status": "ok",
                    "timestamp": 1690175241926,
                    "user": {
                        "displayName": "김수환",
                        "userId": "10118309929059197359"
                    },
                    "user_tz": -540
                },
                "id": "wKItpc_2heNT",
                "outputId": "ca0cc672-8791-4d64-8d2a-a6544f968a6e"
            },
            "outputs": [
                {
                    "name": "stdout",
                    "output_type": "stream",
                    "text": [
                        "Accuracy of the network on the 10000 test images: 53 %\n"
                    ]
                }
            ],
            "source": [
                "# 과제2에서 요구하는 accuracy의 결과값이 나오는 code입니다! 캡처를 하실 때는 해당 코드의 결과를 캡처하시고, 이를 제출하여 주시기 바랍니다~\n",
                "correct = 0\n",
                "total = 0\n",
                "with torch.no_grad():\n",
                "    for data in testloader:\n",
                "        images, labels = data\n",
                "        outputs = net(images)\n",
                "        _, predicted = torch.max(outputs.data, 1)\n",
                "        total += labels.size(0)\n",
                "        correct += (predicted == labels).sum().item()\n",
                "\n",
                "print(\n",
                "    \"Accuracy of the network on the 10000 test images: %d %%\" % (100 * correct / total)\n",
                ")"
            ]
        },
        {
            "cell_type": "code",
            "execution_count": 13,
            "metadata": {
                "colab": {
                    "base_uri": "https://localhost:8080/"
                },
                "executionInfo": {
                    "elapsed": 8358,
                    "status": "ok",
                    "timestamp": 1690174267730,
                    "user": {
                        "displayName": "김수환",
                        "userId": "10118309929059197359"
                    },
                    "user_tz": -540
                },
                "id": "2VD2MZ91hkk1",
                "outputId": "3515ed01-165b-4f89-e660-1ccbcd0d9c08"
            },
            "outputs": [
                {
                    "name": "stdout",
                    "output_type": "stream",
                    "text": [
                        "Accuracy of plane : 45 %\n",
                        "Accuracy of   car : 63 %\n",
                        "Accuracy of  bird : 46 %\n",
                        "Accuracy of   cat : 46 %\n",
                        "Accuracy of  deer : 35 %\n",
                        "Accuracy of   dog : 39 %\n",
                        "Accuracy of  frog : 65 %\n",
                        "Accuracy of horse : 56 %\n",
                        "Accuracy of  ship : 65 %\n",
                        "Accuracy of truck : 66 %\n"
                    ]
                }
            ],
            "source": [
                "class_correct = list(0.0 for i in range(10))\n",
                "class_total = list(0.0 for i in range(10))\n",
                "with torch.no_grad():\n",
                "    for data in testloader:\n",
                "        images, labels = data\n",
                "        outputs = net(images)\n",
                "        _, predicted = torch.max(outputs, 1)\n",
                "        c = (predicted == labels).squeeze()\n",
                "        for i in range(4):\n",
                "            label = labels[i]\n",
                "            class_correct[label] += c[i].item()\n",
                "            class_total[label] += 1\n",
                "\n",
                "\n",
                "for i in range(10):\n",
                "    print(\n",
                "        \"Accuracy of %5s : %2d %%\"\n",
                "        % (classes[i], 100 * class_correct[i] / class_total[i])\n",
                "    )"
            ]
        },
        {
            "cell_type": "markdown",
            "metadata": {
                "id": "FXdtUROHSU4_"
            },
            "source": [
                "출처: https://m.blog.naver.com/ckdgus1433/221406102936의 튜토리얼을 참고하였습니다!\n"
            ]
        },
        {
            "cell_type": "code",
            "execution_count": null,
            "metadata": {
                "id": "BQl-BQnKSUlu"
            },
            "outputs": [],
            "source": []
        },
        {
            "cell_type": "markdown",
            "metadata": {
                "id": "SXfXZ7HorjRI"
            },
            "source": [
                "#과제\n"
            ]
        },
        {
            "cell_type": "markdown",
            "metadata": {
                "id": "PxXa62w5rmyq"
            },
            "source": [
                "##1. 실습 파일의 overfitting model의 optimizer, epoch, learning rate 등을 변경하여 실행한 결과와, underfitting의 layer를 2개 이상 추가하여 실행한 결과를 각각 캡처하여 overfit, underfit이라는 이름으로 깃허브에 제출하기. <br> <br>\n",
                "##2. 과제 파일을 수정하여 Test image에 대한 accuracy를 51% 이상으로 높이고, 모델의 결과에 대한 캡처본과 파일을 모두 깃허브에 제출하기. <br>\n",
                "Hint: 파일 중간중간에 설명이 있는 부분을 참고하시면 아마 될 겁니다!<br>\n",
                "(layer 추가, optimizer 변경, learning rate 조정 등...) <br>\n",
                "##3. MLP model과 기존 ML model의 차이점을 최소 2가지 측면에서 서술하기. <br>\n",
                "답1: <br>\n",
                "답2:\n"
            ]
        }
    ],
    "metadata": {
        "accelerator": "GPU",
        "colab": {
            "gpuType": "T4",
            "provenance": []
        },
        "kernelspec": {
            "display_name": "Python 3",
            "name": "python3"
        },
        "language_info": {
            "name": "python",
            "version": "3.11.1"
        }
    },
    "nbformat": 4,
    "nbformat_minor": 0
}
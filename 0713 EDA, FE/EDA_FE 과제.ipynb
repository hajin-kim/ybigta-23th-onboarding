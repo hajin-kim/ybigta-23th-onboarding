{
    "cells": [
        {
            "cell_type": "markdown",
            "metadata": {
                "id": "x0yoa3uTfcoz"
            },
            "source": [
                "# EDA_FE 과제\n",
                "\n",
                "#### <font color='orange'> - 약간 매운맛\n"
            ]
        },
        {
            "cell_type": "markdown",
            "metadata": {
                "id": "PfuUHX59fco0"
            },
            "source": [
                "by YBIGTA 16기 DA Team 김지환\n"
            ]
        },
        {
            "cell_type": "markdown",
            "metadata": {
                "id": "vfK2PJbOfco1"
            },
            "source": [
                "<img src='https://i.imgur.com/cqdVyfs.jpg'>\n",
                "\n",
                "---\n",
                "\n",
                "여러분은 Airbnb 런던 지사의 데이터 분석가입니다.\n",
                "\n",
                "이번에 호스트들에게 적정한 방 가격을 책정해주는 프로젝트를 진행할 예정입니다.\n",
                "\n",
                "이를 위해 기존에 런던에 있던 Airbnb 방 데이터를 분석할 것입니다.\n",
                "\n",
                "각 문제에 대해 적절한 코드 혹은 답변을 제시해보세요.\n",
                "\n",
                "---\n"
            ]
        },
        {
            "cell_type": "code",
            "execution_count": 3,
            "metadata": {
                "id": "tROG2Acf2eKM"
            },
            "outputs": [],
            "source": [
                "import pandas as pd\n",
                "import numpy as np\n",
                "import matplotlib.pyplot as plt\n",
                "%matplotlib inline\n",
                "# notebook을 실행한 브라우저에서 바로 그림을 볼 수 있게 해주는 코드. 버전에 따라 필요 없을 수도 있습니다.\n",
                "import seaborn as sns"
            ]
        },
        {
            "cell_type": "code",
            "execution_count": 2,
            "metadata": {
                "colab": {
                    "base_uri": "https://localhost:8080/"
                },
                "executionInfo": {
                    "elapsed": 846,
                    "status": "ok",
                    "timestamp": 1642694164253,
                    "user": {
                        "displayName": "‍박슬빈(학부학생/이과대학 지구시스템과학)",
                        "photoUrl": "https://lh3.googleusercontent.com/a/default-user=s64",
                        "userId": "17574256723394630016"
                    },
                    "user_tz": -540
                },
                "id": "Ay_oqYuW2eKP",
                "outputId": "66ae0991-c2e7-4108-ab8e-756e3ef7a44c"
            },
            "outputs": [
                {
                    "name": "stderr",
                    "output_type": "stream",
                    "text": [
                        "/var/folders/x1/tzlfd4112pvbltq49sgc2lxc0000gp/T/ipykernel_84619/725923707.py:1: DtypeWarning: Columns (25,26,47) have mixed types. Specify dtype option on import or set low_memory=False.\n",
                        "  df = pd.read_csv(\"airbnb_listings.csv\", index_col=0)\n"
                    ]
                }
            ],
            "source": [
                "df = pd.read_csv(\"airbnb_listings.csv\", index_col=0)"
            ]
        },
        {
            "cell_type": "code",
            "execution_count": null,
            "metadata": {
                "id": "MVJ_6x-c5z5D"
            },
            "outputs": [],
            "source": [
                "from google.colab import drive\n",
                "\n",
                "drive.mount(\"/content/drive\")"
            ]
        },
        {
            "cell_type": "markdown",
            "metadata": {
                "id": "PJLnjOfZfco8"
            },
            "source": [
                "# EDA\n"
            ]
        },
        {
            "cell_type": "markdown",
            "metadata": {
                "id": "W4Bydfl-fco9"
            },
            "source": [
                "### 1) 전체 데이터 확인\n"
            ]
        },
        {
            "cell_type": "markdown",
            "metadata": {
                "id": "E3dSDYVGfco9"
            },
            "source": [
                "- #### <font color='orange'> Q1. 상위 5개의 데이터를 확인해보세요. 컬럼 수가 많으니 모든 컬럼을 표시하도록 조정하세요. </font>\n"
            ]
        },
        {
            "cell_type": "code",
            "execution_count": 3,
            "metadata": {
                "colab": {
                    "base_uri": "https://localhost:8080/",
                    "height": 409
                },
                "executionInfo": {
                    "elapsed": 378,
                    "status": "ok",
                    "timestamp": 1642694223619,
                    "user": {
                        "displayName": "‍박슬빈(학부학생/이과대학 지구시스템과학)",
                        "photoUrl": "https://lh3.googleusercontent.com/a/default-user=s64",
                        "userId": "17574256723394630016"
                    },
                    "user_tz": -540
                },
                "id": "13sbz1b62eKT",
                "outputId": "3485a4c7-0c4f-405a-cf80-aaf2033fa480",
                "scrolled": true
            },
            "outputs": [
                {
                    "data": {
                        "text/html": [
                            "<div>\n",
                            "<style scoped>\n",
                            "    .dataframe tbody tr th:only-of-type {\n",
                            "        vertical-align: middle;\n",
                            "    }\n",
                            "\n",
                            "    .dataframe tbody tr th {\n",
                            "        vertical-align: top;\n",
                            "    }\n",
                            "\n",
                            "    .dataframe thead th {\n",
                            "        text-align: right;\n",
                            "    }\n",
                            "</style>\n",
                            "<table border=\"1\" class=\"dataframe\">\n",
                            "  <thead>\n",
                            "    <tr style=\"text-align: right;\">\n",
                            "      <th></th>\n",
                            "      <th>id</th>\n",
                            "      <th>host_response_time</th>\n",
                            "      <th>host_response_rate</th>\n",
                            "      <th>host_acceptance_rate</th>\n",
                            "      <th>host_is_superhost</th>\n",
                            "      <th>host_listings_count</th>\n",
                            "      <th>host_total_listings_count</th>\n",
                            "      <th>host_verifications</th>\n",
                            "      <th>host_has_profile_pic</th>\n",
                            "      <th>host_identity_verified</th>\n",
                            "      <th>neighborhood</th>\n",
                            "      <th>latitude</th>\n",
                            "      <th>longitude</th>\n",
                            "      <th>is_location_exact</th>\n",
                            "      <th>property_type</th>\n",
                            "      <th>room_type</th>\n",
                            "      <th>accommodates</th>\n",
                            "      <th>bathrooms</th>\n",
                            "      <th>bedrooms</th>\n",
                            "      <th>beds</th>\n",
                            "      <th>bed_type</th>\n",
                            "      <th>amenities</th>\n",
                            "      <th>square_feet</th>\n",
                            "      <th>price</th>\n",
                            "      <th>weekly_price</th>\n",
                            "      <th>monthly_price</th>\n",
                            "      <th>security_deposit</th>\n",
                            "      <th>guests_included</th>\n",
                            "      <th>extra_people</th>\n",
                            "      <th>minimum_nights</th>\n",
                            "      <th>maximum_nights</th>\n",
                            "      <th>has_availability</th>\n",
                            "      <th>availability_30</th>\n",
                            "      <th>availability_60</th>\n",
                            "      <th>availability_90</th>\n",
                            "      <th>availability_365</th>\n",
                            "      <th>number_of_reviews</th>\n",
                            "      <th>number_of_reviews_ltm</th>\n",
                            "      <th>review_scores_rating</th>\n",
                            "      <th>review_scores_accuracy</th>\n",
                            "      <th>review_scores_cleanliness</th>\n",
                            "      <th>review_scores_checkin</th>\n",
                            "      <th>review_scores_communication</th>\n",
                            "      <th>review_scores_location</th>\n",
                            "      <th>review_scores_value</th>\n",
                            "      <th>requires_license</th>\n",
                            "      <th>license</th>\n",
                            "      <th>jurisdiction_names</th>\n",
                            "      <th>instant_bookable</th>\n",
                            "      <th>is_business_travel_ready</th>\n",
                            "      <th>cancellation_policy</th>\n",
                            "      <th>require_guest_profile_picture</th>\n",
                            "      <th>require_guest_phone_verification</th>\n",
                            "      <th>reviews_per_month</th>\n",
                            "    </tr>\n",
                            "  </thead>\n",
                            "  <tbody>\n",
                            "    <tr>\n",
                            "      <th>0</th>\n",
                            "      <td>2060</td>\n",
                            "      <td>a few days or more</td>\n",
                            "      <td>22%</td>\n",
                            "      <td>50%</td>\n",
                            "      <td>f</td>\n",
                            "      <td>0.0</td>\n",
                            "      <td>0.0</td>\n",
                            "      <td>['reviews']</td>\n",
                            "      <td>t</td>\n",
                            "      <td>f</td>\n",
                            "      <td>Manhattan</td>\n",
                            "      <td>40.85722</td>\n",
                            "      <td>-73.93790</td>\n",
                            "      <td>t</td>\n",
                            "      <td>Other</td>\n",
                            "      <td>Private room</td>\n",
                            "      <td>2</td>\n",
                            "      <td>NaN</td>\n",
                            "      <td>1.0</td>\n",
                            "      <td>2.0</td>\n",
                            "      <td>Real Bed</td>\n",
                            "      <td>{Internet,Wifi}</td>\n",
                            "      <td>NaN</td>\n",
                            "      <td>100</td>\n",
                            "      <td>NaN</td>\n",
                            "      <td>NaN</td>\n",
                            "      <td>NaN</td>\n",
                            "      <td>1</td>\n",
                            "      <td>$0.00</td>\n",
                            "      <td>1</td>\n",
                            "      <td>730</td>\n",
                            "      <td>t</td>\n",
                            "      <td>30</td>\n",
                            "      <td>60</td>\n",
                            "      <td>90</td>\n",
                            "      <td>365</td>\n",
                            "      <td>1</td>\n",
                            "      <td>0</td>\n",
                            "      <td>80.0</td>\n",
                            "      <td>NaN</td>\n",
                            "      <td>NaN</td>\n",
                            "      <td>NaN</td>\n",
                            "      <td>NaN</td>\n",
                            "      <td>NaN</td>\n",
                            "      <td>NaN</td>\n",
                            "      <td>f</td>\n",
                            "      <td>NaN</td>\n",
                            "      <td>NaN</td>\n",
                            "      <td>f</td>\n",
                            "      <td>f</td>\n",
                            "      <td>flexible</td>\n",
                            "      <td>f</td>\n",
                            "      <td>f</td>\n",
                            "      <td>0.01</td>\n",
                            "    </tr>\n",
                            "    <tr>\n",
                            "      <th>1</th>\n",
                            "      <td>2595</td>\n",
                            "      <td>within a day</td>\n",
                            "      <td>87%</td>\n",
                            "      <td>38%</td>\n",
                            "      <td>f</td>\n",
                            "      <td>6.0</td>\n",
                            "      <td>6.0</td>\n",
                            "      <td>['email', 'phone', 'reviews', 'offline_governm...</td>\n",
                            "      <td>t</td>\n",
                            "      <td>t</td>\n",
                            "      <td>Manhattan</td>\n",
                            "      <td>40.75362</td>\n",
                            "      <td>-73.98377</td>\n",
                            "      <td>f</td>\n",
                            "      <td>Apartment</td>\n",
                            "      <td>Entire home/apt</td>\n",
                            "      <td>2</td>\n",
                            "      <td>1.0</td>\n",
                            "      <td>0.0</td>\n",
                            "      <td>1.0</td>\n",
                            "      <td>Real Bed</td>\n",
                            "      <td>{TV,Wifi,\"Air conditioning\",Kitchen,\"Paid park...</td>\n",
                            "      <td>NaN</td>\n",
                            "      <td>225</td>\n",
                            "      <td>$1,995.00</td>\n",
                            "      <td>NaN</td>\n",
                            "      <td>$350.00</td>\n",
                            "      <td>1</td>\n",
                            "      <td>$0.00</td>\n",
                            "      <td>7</td>\n",
                            "      <td>1125</td>\n",
                            "      <td>t</td>\n",
                            "      <td>4</td>\n",
                            "      <td>34</td>\n",
                            "      <td>64</td>\n",
                            "      <td>339</td>\n",
                            "      <td>48</td>\n",
                            "      <td>5</td>\n",
                            "      <td>94.0</td>\n",
                            "      <td>9.0</td>\n",
                            "      <td>9.0</td>\n",
                            "      <td>10.0</td>\n",
                            "      <td>10.0</td>\n",
                            "      <td>10.0</td>\n",
                            "      <td>9.0</td>\n",
                            "      <td>f</td>\n",
                            "      <td>NaN</td>\n",
                            "      <td>NaN</td>\n",
                            "      <td>f</td>\n",
                            "      <td>f</td>\n",
                            "      <td>strict_14_with_grace_period</td>\n",
                            "      <td>t</td>\n",
                            "      <td>t</td>\n",
                            "      <td>0.38</td>\n",
                            "    </tr>\n",
                            "    <tr>\n",
                            "      <th>2</th>\n",
                            "      <td>3831</td>\n",
                            "      <td>within an hour</td>\n",
                            "      <td>83%</td>\n",
                            "      <td>96%</td>\n",
                            "      <td>f</td>\n",
                            "      <td>1.0</td>\n",
                            "      <td>1.0</td>\n",
                            "      <td>['email', 'phone', 'reviews', 'kba']</td>\n",
                            "      <td>t</td>\n",
                            "      <td>t</td>\n",
                            "      <td>Brooklyn</td>\n",
                            "      <td>40.68514</td>\n",
                            "      <td>-73.95976</td>\n",
                            "      <td>t</td>\n",
                            "      <td>Guest suite</td>\n",
                            "      <td>Entire home/apt</td>\n",
                            "      <td>3</td>\n",
                            "      <td>1.0</td>\n",
                            "      <td>1.0</td>\n",
                            "      <td>4.0</td>\n",
                            "      <td>Real Bed</td>\n",
                            "      <td>{TV,\"Cable TV\",Internet,Wifi,\"Air conditioning...</td>\n",
                            "      <td>500.0</td>\n",
                            "      <td>89</td>\n",
                            "      <td>$575.00</td>\n",
                            "      <td>$2,100.00</td>\n",
                            "      <td>$500.00</td>\n",
                            "      <td>1</td>\n",
                            "      <td>$0.00</td>\n",
                            "      <td>1</td>\n",
                            "      <td>730</td>\n",
                            "      <td>t</td>\n",
                            "      <td>6</td>\n",
                            "      <td>10</td>\n",
                            "      <td>13</td>\n",
                            "      <td>151</td>\n",
                            "      <td>313</td>\n",
                            "      <td>69</td>\n",
                            "      <td>90.0</td>\n",
                            "      <td>9.0</td>\n",
                            "      <td>9.0</td>\n",
                            "      <td>10.0</td>\n",
                            "      <td>10.0</td>\n",
                            "      <td>10.0</td>\n",
                            "      <td>8.0</td>\n",
                            "      <td>f</td>\n",
                            "      <td>NaN</td>\n",
                            "      <td>NaN</td>\n",
                            "      <td>f</td>\n",
                            "      <td>f</td>\n",
                            "      <td>moderate</td>\n",
                            "      <td>f</td>\n",
                            "      <td>f</td>\n",
                            "      <td>4.71</td>\n",
                            "    </tr>\n",
                            "    <tr>\n",
                            "      <th>3</th>\n",
                            "      <td>5099</td>\n",
                            "      <td>NaN</td>\n",
                            "      <td>NaN</td>\n",
                            "      <td>71%</td>\n",
                            "      <td>f</td>\n",
                            "      <td>1.0</td>\n",
                            "      <td>1.0</td>\n",
                            "      <td>['email', 'phone', 'reviews', 'jumio', 'govern...</td>\n",
                            "      <td>t</td>\n",
                            "      <td>f</td>\n",
                            "      <td>Manhattan</td>\n",
                            "      <td>40.74767</td>\n",
                            "      <td>-73.97500</td>\n",
                            "      <td>f</td>\n",
                            "      <td>Apartment</td>\n",
                            "      <td>Entire home/apt</td>\n",
                            "      <td>2</td>\n",
                            "      <td>1.0</td>\n",
                            "      <td>1.0</td>\n",
                            "      <td>1.0</td>\n",
                            "      <td>Real Bed</td>\n",
                            "      <td>{TV,\"Cable TV\",Internet,Wifi,\"Air conditioning...</td>\n",
                            "      <td>NaN</td>\n",
                            "      <td>200</td>\n",
                            "      <td>NaN</td>\n",
                            "      <td>NaN</td>\n",
                            "      <td>$300.00</td>\n",
                            "      <td>2</td>\n",
                            "      <td>$100.00</td>\n",
                            "      <td>3</td>\n",
                            "      <td>21</td>\n",
                            "      <td>t</td>\n",
                            "      <td>0</td>\n",
                            "      <td>0</td>\n",
                            "      <td>0</td>\n",
                            "      <td>0</td>\n",
                            "      <td>78</td>\n",
                            "      <td>8</td>\n",
                            "      <td>90.0</td>\n",
                            "      <td>10.0</td>\n",
                            "      <td>9.0</td>\n",
                            "      <td>10.0</td>\n",
                            "      <td>10.0</td>\n",
                            "      <td>10.0</td>\n",
                            "      <td>9.0</td>\n",
                            "      <td>f</td>\n",
                            "      <td>NaN</td>\n",
                            "      <td>NaN</td>\n",
                            "      <td>f</td>\n",
                            "      <td>f</td>\n",
                            "      <td>moderate</td>\n",
                            "      <td>t</td>\n",
                            "      <td>t</td>\n",
                            "      <td>0.59</td>\n",
                            "    </tr>\n",
                            "    <tr>\n",
                            "      <th>4</th>\n",
                            "      <td>5114</td>\n",
                            "      <td>within a day</td>\n",
                            "      <td>50%</td>\n",
                            "      <td>NaN</td>\n",
                            "      <td>f</td>\n",
                            "      <td>3.0</td>\n",
                            "      <td>3.0</td>\n",
                            "      <td>['email', 'phone', 'reviews']</td>\n",
                            "      <td>t</td>\n",
                            "      <td>f</td>\n",
                            "      <td>Manhattan</td>\n",
                            "      <td>40.71910</td>\n",
                            "      <td>-73.99040</td>\n",
                            "      <td>t</td>\n",
                            "      <td>Apartment</td>\n",
                            "      <td>Private room</td>\n",
                            "      <td>2</td>\n",
                            "      <td>NaN</td>\n",
                            "      <td>1.0</td>\n",
                            "      <td>1.0</td>\n",
                            "      <td>Real Bed</td>\n",
                            "      <td>{TV,Internet,Wifi,\"Air conditioning\",Kitchen,E...</td>\n",
                            "      <td>NaN</td>\n",
                            "      <td>94</td>\n",
                            "      <td>NaN</td>\n",
                            "      <td>NaN</td>\n",
                            "      <td>NaN</td>\n",
                            "      <td>1</td>\n",
                            "      <td>$13.00</td>\n",
                            "      <td>1</td>\n",
                            "      <td>730</td>\n",
                            "      <td>t</td>\n",
                            "      <td>30</td>\n",
                            "      <td>60</td>\n",
                            "      <td>90</td>\n",
                            "      <td>109</td>\n",
                            "      <td>75</td>\n",
                            "      <td>0</td>\n",
                            "      <td>94.0</td>\n",
                            "      <td>10.0</td>\n",
                            "      <td>10.0</td>\n",
                            "      <td>10.0</td>\n",
                            "      <td>10.0</td>\n",
                            "      <td>10.0</td>\n",
                            "      <td>10.0</td>\n",
                            "      <td>f</td>\n",
                            "      <td>NaN</td>\n",
                            "      <td>NaN</td>\n",
                            "      <td>f</td>\n",
                            "      <td>f</td>\n",
                            "      <td>strict_14_with_grace_period</td>\n",
                            "      <td>f</td>\n",
                            "      <td>f</td>\n",
                            "      <td>0.56</td>\n",
                            "    </tr>\n",
                            "  </tbody>\n",
                            "</table>\n",
                            "</div>"
                        ],
                        "text/plain": [
                            "     id  host_response_time host_response_rate host_acceptance_rate  \\\n",
                            "0  2060  a few days or more                22%                  50%   \n",
                            "1  2595        within a day                87%                  38%   \n",
                            "2  3831      within an hour                83%                  96%   \n",
                            "3  5099                 NaN                NaN                  71%   \n",
                            "4  5114        within a day                50%                  NaN   \n",
                            "\n",
                            "  host_is_superhost  host_listings_count  host_total_listings_count  \\\n",
                            "0                 f                  0.0                        0.0   \n",
                            "1                 f                  6.0                        6.0   \n",
                            "2                 f                  1.0                        1.0   \n",
                            "3                 f                  1.0                        1.0   \n",
                            "4                 f                  3.0                        3.0   \n",
                            "\n",
                            "                                  host_verifications host_has_profile_pic  \\\n",
                            "0                                        ['reviews']                    t   \n",
                            "1  ['email', 'phone', 'reviews', 'offline_governm...                    t   \n",
                            "2               ['email', 'phone', 'reviews', 'kba']                    t   \n",
                            "3  ['email', 'phone', 'reviews', 'jumio', 'govern...                    t   \n",
                            "4                      ['email', 'phone', 'reviews']                    t   \n",
                            "\n",
                            "  host_identity_verified neighborhood  latitude  longitude is_location_exact  \\\n",
                            "0                      f    Manhattan  40.85722  -73.93790                 t   \n",
                            "1                      t    Manhattan  40.75362  -73.98377                 f   \n",
                            "2                      t     Brooklyn  40.68514  -73.95976                 t   \n",
                            "3                      f    Manhattan  40.74767  -73.97500                 f   \n",
                            "4                      f    Manhattan  40.71910  -73.99040                 t   \n",
                            "\n",
                            "  property_type        room_type  accommodates  bathrooms  bedrooms  beds  \\\n",
                            "0         Other     Private room             2        NaN       1.0   2.0   \n",
                            "1     Apartment  Entire home/apt             2        1.0       0.0   1.0   \n",
                            "2   Guest suite  Entire home/apt             3        1.0       1.0   4.0   \n",
                            "3     Apartment  Entire home/apt             2        1.0       1.0   1.0   \n",
                            "4     Apartment     Private room             2        NaN       1.0   1.0   \n",
                            "\n",
                            "   bed_type                                          amenities  square_feet  \\\n",
                            "0  Real Bed                                    {Internet,Wifi}          NaN   \n",
                            "1  Real Bed  {TV,Wifi,\"Air conditioning\",Kitchen,\"Paid park...          NaN   \n",
                            "2  Real Bed  {TV,\"Cable TV\",Internet,Wifi,\"Air conditioning...        500.0   \n",
                            "3  Real Bed  {TV,\"Cable TV\",Internet,Wifi,\"Air conditioning...          NaN   \n",
                            "4  Real Bed  {TV,Internet,Wifi,\"Air conditioning\",Kitchen,E...          NaN   \n",
                            "\n",
                            "   price weekly_price monthly_price security_deposit  guests_included  \\\n",
                            "0    100          NaN           NaN              NaN                1   \n",
                            "1    225    $1,995.00           NaN          $350.00                1   \n",
                            "2     89      $575.00     $2,100.00          $500.00                1   \n",
                            "3    200          NaN           NaN          $300.00                2   \n",
                            "4     94          NaN           NaN              NaN                1   \n",
                            "\n",
                            "  extra_people  minimum_nights  maximum_nights has_availability  \\\n",
                            "0        $0.00               1             730                t   \n",
                            "1        $0.00               7            1125                t   \n",
                            "2        $0.00               1             730                t   \n",
                            "3      $100.00               3              21                t   \n",
                            "4       $13.00               1             730                t   \n",
                            "\n",
                            "   availability_30  availability_60  availability_90  availability_365  \\\n",
                            "0               30               60               90               365   \n",
                            "1                4               34               64               339   \n",
                            "2                6               10               13               151   \n",
                            "3                0                0                0                 0   \n",
                            "4               30               60               90               109   \n",
                            "\n",
                            "   number_of_reviews  number_of_reviews_ltm  review_scores_rating  \\\n",
                            "0                  1                      0                  80.0   \n",
                            "1                 48                      5                  94.0   \n",
                            "2                313                     69                  90.0   \n",
                            "3                 78                      8                  90.0   \n",
                            "4                 75                      0                  94.0   \n",
                            "\n",
                            "   review_scores_accuracy  review_scores_cleanliness  review_scores_checkin  \\\n",
                            "0                     NaN                        NaN                    NaN   \n",
                            "1                     9.0                        9.0                   10.0   \n",
                            "2                     9.0                        9.0                   10.0   \n",
                            "3                    10.0                        9.0                   10.0   \n",
                            "4                    10.0                       10.0                   10.0   \n",
                            "\n",
                            "   review_scores_communication  review_scores_location  review_scores_value  \\\n",
                            "0                          NaN                     NaN                  NaN   \n",
                            "1                         10.0                    10.0                  9.0   \n",
                            "2                         10.0                    10.0                  8.0   \n",
                            "3                         10.0                    10.0                  9.0   \n",
                            "4                         10.0                    10.0                 10.0   \n",
                            "\n",
                            "  requires_license license jurisdiction_names instant_bookable  \\\n",
                            "0                f     NaN                NaN                f   \n",
                            "1                f     NaN                NaN                f   \n",
                            "2                f     NaN                NaN                f   \n",
                            "3                f     NaN                NaN                f   \n",
                            "4                f     NaN                NaN                f   \n",
                            "\n",
                            "  is_business_travel_ready          cancellation_policy  \\\n",
                            "0                        f                     flexible   \n",
                            "1                        f  strict_14_with_grace_period   \n",
                            "2                        f                     moderate   \n",
                            "3                        f                     moderate   \n",
                            "4                        f  strict_14_with_grace_period   \n",
                            "\n",
                            "  require_guest_profile_picture require_guest_phone_verification  \\\n",
                            "0                             f                                f   \n",
                            "1                             t                                t   \n",
                            "2                             f                                f   \n",
                            "3                             t                                t   \n",
                            "4                             f                                f   \n",
                            "\n",
                            "   reviews_per_month  \n",
                            "0               0.01  \n",
                            "1               0.38  \n",
                            "2               4.71  \n",
                            "3               0.59  \n",
                            "4               0.56  "
                        ]
                    },
                    "execution_count": 3,
                    "metadata": {},
                    "output_type": "execute_result"
                }
            ],
            "source": [
                "# Q1\n",
                "pd.set_option(\"display.max_columns\", None)\n",
                "df.head()"
            ]
        },
        {
            "cell_type": "markdown",
            "metadata": {
                "id": "bs39AwwafcpA"
            },
            "source": [
                "---\n",
                "\n",
                "### 2) 결측치 확인\n"
            ]
        },
        {
            "cell_type": "markdown",
            "metadata": {
                "id": "9-IpP0m4fcpA"
            },
            "source": [
                "- #### <font color='orange'> Q2. 각 컬럼의 결측치를 확인하고, 결측치가 많은 순서대로 결측치 비율과 함께 표로 나타내보세요.\n",
                "  <font color='orange'> (결측치 0개인 컬럼은 나타내지 마세요)\n"
            ]
        },
        {
            "cell_type": "code",
            "execution_count": 4,
            "metadata": {
                "colab": {
                    "base_uri": "https://localhost:8080/"
                },
                "executionInfo": {
                    "elapsed": 366,
                    "status": "ok",
                    "timestamp": 1642695496236,
                    "user": {
                        "displayName": "‍박슬빈(학부학생/이과대학 지구시스템과학)",
                        "photoUrl": "https://lh3.googleusercontent.com/a/default-user=s64",
                        "userId": "17574256723394630016"
                    },
                    "user_tz": -540
                },
                "id": "GN2gxJDifcpB",
                "outputId": "86d403b6-f9ed-485f-bf5b-8ab26562be20"
            },
            "outputs": [
                {
                    "name": "stdout",
                    "output_type": "stream",
                    "text": [
                        "<class 'pandas.core.frame.DataFrame'>\n",
                        "Index: 50796 entries, 0 to 50795\n",
                        "Data columns (total 54 columns):\n",
                        " #   Column                            Non-Null Count  Dtype  \n",
                        "---  ------                            --------------  -----  \n",
                        " 0   id                                50796 non-null  int64  \n",
                        " 1   host_response_time                31790 non-null  object \n",
                        " 2   host_response_rate                31790 non-null  object \n",
                        " 3   host_acceptance_rate              36781 non-null  object \n",
                        " 4   host_is_superhost                 50791 non-null  object \n",
                        " 5   host_listings_count               50791 non-null  float64\n",
                        " 6   host_total_listings_count         50791 non-null  float64\n",
                        " 7   host_verifications                50791 non-null  object \n",
                        " 8   host_has_profile_pic              50791 non-null  object \n",
                        " 9   host_identity_verified            50791 non-null  object \n",
                        " 10  neighborhood                      50796 non-null  object \n",
                        " 11  latitude                          50796 non-null  float64\n",
                        " 12  longitude                         50796 non-null  float64\n",
                        " 13  is_location_exact                 50796 non-null  object \n",
                        " 14  property_type                     50796 non-null  object \n",
                        " 15  room_type                         50796 non-null  object \n",
                        " 16  accommodates                      50796 non-null  int64  \n",
                        " 17  bathrooms                         50742 non-null  float64\n",
                        " 18  bedrooms                          50719 non-null  float64\n",
                        " 19  beds                              50314 non-null  float64\n",
                        " 20  bed_type                          50796 non-null  object \n",
                        " 21  amenities                         50796 non-null  object \n",
                        " 22  square_feet                       389 non-null    float64\n",
                        " 23  price                             50796 non-null  int64  \n",
                        " 24  weekly_price                      5385 non-null   object \n",
                        " 25  monthly_price                     4677 non-null   object \n",
                        " 26  security_deposit                  33471 non-null  object \n",
                        " 27  guests_included                   50796 non-null  int64  \n",
                        " 28  extra_people                      50796 non-null  object \n",
                        " 29  minimum_nights                    50796 non-null  int64  \n",
                        " 30  maximum_nights                    50796 non-null  int64  \n",
                        " 31  has_availability                  50796 non-null  object \n",
                        " 32  availability_30                   50796 non-null  int64  \n",
                        " 33  availability_60                   50796 non-null  int64  \n",
                        " 34  availability_90                   50796 non-null  int64  \n",
                        " 35  availability_365                  50796 non-null  int64  \n",
                        " 36  number_of_reviews                 50796 non-null  int64  \n",
                        " 37  number_of_reviews_ltm             50796 non-null  int64  \n",
                        " 38  review_scores_rating              39365 non-null  float64\n",
                        " 39  review_scores_accuracy            39330 non-null  float64\n",
                        " 40  review_scores_cleanliness         39344 non-null  float64\n",
                        " 41  review_scores_checkin             39317 non-null  float64\n",
                        " 42  review_scores_communication       39333 non-null  float64\n",
                        " 43  review_scores_location            39314 non-null  float64\n",
                        " 44  review_scores_value               39314 non-null  float64\n",
                        " 45  requires_license                  50796 non-null  object \n",
                        " 46  license                           37 non-null     object \n",
                        " 47  jurisdiction_names                15 non-null     object \n",
                        " 48  instant_bookable                  50796 non-null  object \n",
                        " 49  is_business_travel_ready          50796 non-null  object \n",
                        " 50  cancellation_policy               50796 non-null  object \n",
                        " 51  require_guest_profile_picture     50796 non-null  object \n",
                        " 52  require_guest_phone_verification  50796 non-null  object \n",
                        " 53  reviews_per_month                 40343 non-null  float64\n",
                        "dtypes: float64(16), int64(12), object(26)\n",
                        "memory usage: 21.3+ MB\n"
                    ]
                }
            ],
            "source": [
                "# Q2\n",
                "df.info()"
            ]
        },
        {
            "cell_type": "code",
            "execution_count": 5,
            "metadata": {
                "colab": {
                    "base_uri": "https://localhost:8080/",
                    "height": 833
                },
                "executionInfo": {
                    "elapsed": 291,
                    "status": "ok",
                    "timestamp": 1642695764760,
                    "user": {
                        "displayName": "‍박슬빈(학부학생/이과대학 지구시스템과학)",
                        "photoUrl": "https://lh3.googleusercontent.com/a/default-user=s64",
                        "userId": "17574256723394630016"
                    },
                    "user_tz": -540
                },
                "id": "Ne07ZdBYRgfH",
                "outputId": "3cc81111-5a05-482d-a7d4-5c9e3264b8c9"
            },
            "outputs": [
                {
                    "data": {
                        "text/html": [
                            "<div>\n",
                            "<style scoped>\n",
                            "    .dataframe tbody tr th:only-of-type {\n",
                            "        vertical-align: middle;\n",
                            "    }\n",
                            "\n",
                            "    .dataframe tbody tr th {\n",
                            "        vertical-align: top;\n",
                            "    }\n",
                            "\n",
                            "    .dataframe thead th {\n",
                            "        text-align: right;\n",
                            "    }\n",
                            "</style>\n",
                            "<table border=\"1\" class=\"dataframe\">\n",
                            "  <thead>\n",
                            "    <tr style=\"text-align: right;\">\n",
                            "      <th></th>\n",
                            "      <th>missing_num</th>\n",
                            "      <th>missing_%</th>\n",
                            "    </tr>\n",
                            "  </thead>\n",
                            "  <tbody>\n",
                            "    <tr>\n",
                            "      <th>jurisdiction_names</th>\n",
                            "      <td>50781</td>\n",
                            "      <td>99.970470</td>\n",
                            "    </tr>\n",
                            "    <tr>\n",
                            "      <th>license</th>\n",
                            "      <td>50759</td>\n",
                            "      <td>99.927160</td>\n",
                            "    </tr>\n",
                            "    <tr>\n",
                            "      <th>square_feet</th>\n",
                            "      <td>50407</td>\n",
                            "      <td>99.234192</td>\n",
                            "    </tr>\n",
                            "    <tr>\n",
                            "      <th>monthly_price</th>\n",
                            "      <td>46119</td>\n",
                            "      <td>90.792582</td>\n",
                            "    </tr>\n",
                            "    <tr>\n",
                            "      <th>weekly_price</th>\n",
                            "      <td>45411</td>\n",
                            "      <td>89.398772</td>\n",
                            "    </tr>\n",
                            "    <tr>\n",
                            "      <th>host_response_rate</th>\n",
                            "      <td>19006</td>\n",
                            "      <td>37.416332</td>\n",
                            "    </tr>\n",
                            "    <tr>\n",
                            "      <th>host_response_time</th>\n",
                            "      <td>19006</td>\n",
                            "      <td>37.416332</td>\n",
                            "    </tr>\n",
                            "    <tr>\n",
                            "      <th>security_deposit</th>\n",
                            "      <td>17325</td>\n",
                            "      <td>34.107016</td>\n",
                            "    </tr>\n",
                            "    <tr>\n",
                            "      <th>host_acceptance_rate</th>\n",
                            "      <td>14015</td>\n",
                            "      <td>27.590755</td>\n",
                            "    </tr>\n",
                            "    <tr>\n",
                            "      <th>review_scores_value</th>\n",
                            "      <td>11482</td>\n",
                            "      <td>22.604142</td>\n",
                            "    </tr>\n",
                            "    <tr>\n",
                            "      <th>review_scores_location</th>\n",
                            "      <td>11482</td>\n",
                            "      <td>22.604142</td>\n",
                            "    </tr>\n",
                            "    <tr>\n",
                            "      <th>review_scores_checkin</th>\n",
                            "      <td>11479</td>\n",
                            "      <td>22.598236</td>\n",
                            "    </tr>\n",
                            "    <tr>\n",
                            "      <th>review_scores_accuracy</th>\n",
                            "      <td>11466</td>\n",
                            "      <td>22.572644</td>\n",
                            "    </tr>\n",
                            "    <tr>\n",
                            "      <th>review_scores_communication</th>\n",
                            "      <td>11463</td>\n",
                            "      <td>22.566738</td>\n",
                            "    </tr>\n",
                            "    <tr>\n",
                            "      <th>review_scores_cleanliness</th>\n",
                            "      <td>11452</td>\n",
                            "      <td>22.545082</td>\n",
                            "    </tr>\n",
                            "    <tr>\n",
                            "      <th>review_scores_rating</th>\n",
                            "      <td>11431</td>\n",
                            "      <td>22.503740</td>\n",
                            "    </tr>\n",
                            "    <tr>\n",
                            "      <th>reviews_per_month</th>\n",
                            "      <td>10453</td>\n",
                            "      <td>20.578392</td>\n",
                            "    </tr>\n",
                            "    <tr>\n",
                            "      <th>beds</th>\n",
                            "      <td>482</td>\n",
                            "      <td>0.948894</td>\n",
                            "    </tr>\n",
                            "    <tr>\n",
                            "      <th>bedrooms</th>\n",
                            "      <td>77</td>\n",
                            "      <td>0.151587</td>\n",
                            "    </tr>\n",
                            "    <tr>\n",
                            "      <th>bathrooms</th>\n",
                            "      <td>54</td>\n",
                            "      <td>0.106308</td>\n",
                            "    </tr>\n",
                            "    <tr>\n",
                            "      <th>host_identity_verified</th>\n",
                            "      <td>5</td>\n",
                            "      <td>0.009843</td>\n",
                            "    </tr>\n",
                            "    <tr>\n",
                            "      <th>host_listings_count</th>\n",
                            "      <td>5</td>\n",
                            "      <td>0.009843</td>\n",
                            "    </tr>\n",
                            "    <tr>\n",
                            "      <th>host_total_listings_count</th>\n",
                            "      <td>5</td>\n",
                            "      <td>0.009843</td>\n",
                            "    </tr>\n",
                            "    <tr>\n",
                            "      <th>host_verifications</th>\n",
                            "      <td>5</td>\n",
                            "      <td>0.009843</td>\n",
                            "    </tr>\n",
                            "    <tr>\n",
                            "      <th>host_is_superhost</th>\n",
                            "      <td>5</td>\n",
                            "      <td>0.009843</td>\n",
                            "    </tr>\n",
                            "    <tr>\n",
                            "      <th>host_has_profile_pic</th>\n",
                            "      <td>5</td>\n",
                            "      <td>0.009843</td>\n",
                            "    </tr>\n",
                            "  </tbody>\n",
                            "</table>\n",
                            "</div>"
                        ],
                        "text/plain": [
                            "                             missing_num  missing_%\n",
                            "jurisdiction_names                 50781  99.970470\n",
                            "license                            50759  99.927160\n",
                            "square_feet                        50407  99.234192\n",
                            "monthly_price                      46119  90.792582\n",
                            "weekly_price                       45411  89.398772\n",
                            "host_response_rate                 19006  37.416332\n",
                            "host_response_time                 19006  37.416332\n",
                            "security_deposit                   17325  34.107016\n",
                            "host_acceptance_rate               14015  27.590755\n",
                            "review_scores_value                11482  22.604142\n",
                            "review_scores_location             11482  22.604142\n",
                            "review_scores_checkin              11479  22.598236\n",
                            "review_scores_accuracy             11466  22.572644\n",
                            "review_scores_communication        11463  22.566738\n",
                            "review_scores_cleanliness          11452  22.545082\n",
                            "review_scores_rating               11431  22.503740\n",
                            "reviews_per_month                  10453  20.578392\n",
                            "beds                                 482   0.948894\n",
                            "bedrooms                              77   0.151587\n",
                            "bathrooms                             54   0.106308\n",
                            "host_identity_verified                 5   0.009843\n",
                            "host_listings_count                    5   0.009843\n",
                            "host_total_listings_count              5   0.009843\n",
                            "host_verifications                     5   0.009843\n",
                            "host_is_superhost                      5   0.009843\n",
                            "host_has_profile_pic                   5   0.009843"
                        ]
                    },
                    "execution_count": 5,
                    "metadata": {},
                    "output_type": "execute_result"
                }
            ],
            "source": [
                "# Q2\n",
                "missing_sum = df.isnull().sum()\n",
                "missing_percent = missing_sum * 100 / len(df)\n",
                "null_count_table = pd.concat(\n",
                "    [missing_sum, missing_percent], axis=1, keys=[\"missing_num\", \"missing_%\"]\n",
                ")\n",
                "null_count_table = null_count_table[null_count_table[\"missing_num\"] > 0].sort_values(\n",
                "    \"missing_num\", ascending=False\n",
                ")\n",
                "null_count_table"
            ]
        },
        {
            "cell_type": "markdown",
            "metadata": {
                "id": "87TiQRKbfcpE"
            },
            "source": [
                "- #### <font color='orange'> Q3. 결측치가 있는 컬럼과 결측치 비율을 보기쉽게 그래프로 나타내 보세요.\n"
            ]
        },
        {
            "cell_type": "markdown",
            "metadata": {
                "id": "NQhe9aDrM2d9"
            },
            "source": []
        },
        {
            "cell_type": "code",
            "execution_count": 6,
            "metadata": {
                "colab": {
                    "base_uri": "https://localhost:8080/",
                    "height": 371
                },
                "executionInfo": {
                    "elapsed": 890,
                    "status": "ok",
                    "timestamp": 1642696152967,
                    "user": {
                        "displayName": "‍박슬빈(학부학생/이과대학 지구시스템과학)",
                        "photoUrl": "https://lh3.googleusercontent.com/a/default-user=s64",
                        "userId": "17574256723394630016"
                    },
                    "user_tz": -540
                },
                "id": "1PVB7F3yfcpE",
                "outputId": "1d5492e2-8e4a-4a1d-b310-96348333b7ff"
            },
            "outputs": [
                {
                    "data": {
                        "text/plain": [
                            "<Axes: >"
                        ]
                    },
                    "execution_count": 6,
                    "metadata": {},
                    "output_type": "execute_result"
                },
                {
                    "data": {
                        "image/png": "[encoded data removed]",
                        "text/plain": [
                            "<Figure size 640x480 with 1 Axes>"
                        ]
                    },
                    "metadata": {},
                    "output_type": "display_data"
                }
            ],
            "source": [
                "# Q3\n",
                "null_count_table[\"missing_%\"].plot.bar()"
            ]
        },
        {
            "cell_type": "markdown",
            "metadata": {
                "id": "D8Xr7__1fcpI"
            },
            "source": [
                "- #### <font color='orange'> Q4. 결측치가 적은 beds 컬럼을 좀 더 자세히 살펴보겠습니다.\n",
                "  #### <font color='orange'> 'beds' 컬럼이 결측치인 데이터의 상위 5개를 출력해주세요.\n"
            ]
        },
        {
            "cell_type": "code",
            "execution_count": 7,
            "metadata": {
                "colab": {
                    "base_uri": "https://localhost:8080/",
                    "height": 392
                },
                "executionInfo": {
                    "elapsed": 333,
                    "status": "ok",
                    "timestamp": 1642696411085,
                    "user": {
                        "displayName": "‍박슬빈(학부학생/이과대학 지구시스템과학)",
                        "photoUrl": "https://lh3.googleusercontent.com/a/default-user=s64",
                        "userId": "17574256723394630016"
                    },
                    "user_tz": -540
                },
                "id": "52-Do2c_fcpJ",
                "outputId": "9e2b6337-f2f3-44df-bee5-0ab285ff2786"
            },
            "outputs": [
                {
                    "data": {
                        "text/html": [
                            "<div>\n",
                            "<style scoped>\n",
                            "    .dataframe tbody tr th:only-of-type {\n",
                            "        vertical-align: middle;\n",
                            "    }\n",
                            "\n",
                            "    .dataframe tbody tr th {\n",
                            "        vertical-align: top;\n",
                            "    }\n",
                            "\n",
                            "    .dataframe thead th {\n",
                            "        text-align: right;\n",
                            "    }\n",
                            "</style>\n",
                            "<table border=\"1\" class=\"dataframe\">\n",
                            "  <thead>\n",
                            "    <tr style=\"text-align: right;\">\n",
                            "      <th></th>\n",
                            "      <th>id</th>\n",
                            "      <th>host_response_time</th>\n",
                            "      <th>host_response_rate</th>\n",
                            "      <th>host_acceptance_rate</th>\n",
                            "      <th>host_is_superhost</th>\n",
                            "      <th>host_listings_count</th>\n",
                            "      <th>host_total_listings_count</th>\n",
                            "      <th>host_verifications</th>\n",
                            "      <th>host_has_profile_pic</th>\n",
                            "      <th>host_identity_verified</th>\n",
                            "      <th>neighborhood</th>\n",
                            "      <th>latitude</th>\n",
                            "      <th>longitude</th>\n",
                            "      <th>is_location_exact</th>\n",
                            "      <th>property_type</th>\n",
                            "      <th>room_type</th>\n",
                            "      <th>accommodates</th>\n",
                            "      <th>bathrooms</th>\n",
                            "      <th>bedrooms</th>\n",
                            "      <th>beds</th>\n",
                            "      <th>bed_type</th>\n",
                            "      <th>amenities</th>\n",
                            "      <th>square_feet</th>\n",
                            "      <th>price</th>\n",
                            "      <th>weekly_price</th>\n",
                            "      <th>monthly_price</th>\n",
                            "      <th>security_deposit</th>\n",
                            "      <th>guests_included</th>\n",
                            "      <th>extra_people</th>\n",
                            "      <th>minimum_nights</th>\n",
                            "      <th>maximum_nights</th>\n",
                            "      <th>has_availability</th>\n",
                            "      <th>availability_30</th>\n",
                            "      <th>availability_60</th>\n",
                            "      <th>availability_90</th>\n",
                            "      <th>availability_365</th>\n",
                            "      <th>number_of_reviews</th>\n",
                            "      <th>number_of_reviews_ltm</th>\n",
                            "      <th>review_scores_rating</th>\n",
                            "      <th>review_scores_accuracy</th>\n",
                            "      <th>review_scores_cleanliness</th>\n",
                            "      <th>review_scores_checkin</th>\n",
                            "      <th>review_scores_communication</th>\n",
                            "      <th>review_scores_location</th>\n",
                            "      <th>review_scores_value</th>\n",
                            "      <th>requires_license</th>\n",
                            "      <th>license</th>\n",
                            "      <th>jurisdiction_names</th>\n",
                            "      <th>instant_bookable</th>\n",
                            "      <th>is_business_travel_ready</th>\n",
                            "      <th>cancellation_policy</th>\n",
                            "      <th>require_guest_profile_picture</th>\n",
                            "      <th>require_guest_phone_verification</th>\n",
                            "      <th>reviews_per_month</th>\n",
                            "    </tr>\n",
                            "  </thead>\n",
                            "  <tbody>\n",
                            "    <tr>\n",
                            "      <th>808</th>\n",
                            "      <td>321845</td>\n",
                            "      <td>NaN</td>\n",
                            "      <td>NaN</td>\n",
                            "      <td>NaN</td>\n",
                            "      <td>f</td>\n",
                            "      <td>0.0</td>\n",
                            "      <td>0.0</td>\n",
                            "      <td>['email']</td>\n",
                            "      <td>t</td>\n",
                            "      <td>f</td>\n",
                            "      <td>Manhattan</td>\n",
                            "      <td>40.70850</td>\n",
                            "      <td>-74.01795</td>\n",
                            "      <td>t</td>\n",
                            "      <td>Apartment</td>\n",
                            "      <td>Private room</td>\n",
                            "      <td>2</td>\n",
                            "      <td>NaN</td>\n",
                            "      <td>1.0</td>\n",
                            "      <td>NaN</td>\n",
                            "      <td>Real Bed</td>\n",
                            "      <td>{}</td>\n",
                            "      <td>NaN</td>\n",
                            "      <td>150</td>\n",
                            "      <td>$500.00</td>\n",
                            "      <td>$1,600.00</td>\n",
                            "      <td>NaN</td>\n",
                            "      <td>1</td>\n",
                            "      <td>$0.00</td>\n",
                            "      <td>1</td>\n",
                            "      <td>1125</td>\n",
                            "      <td>t</td>\n",
                            "      <td>30</td>\n",
                            "      <td>60</td>\n",
                            "      <td>90</td>\n",
                            "      <td>365</td>\n",
                            "      <td>0</td>\n",
                            "      <td>0</td>\n",
                            "      <td>NaN</td>\n",
                            "      <td>NaN</td>\n",
                            "      <td>NaN</td>\n",
                            "      <td>NaN</td>\n",
                            "      <td>NaN</td>\n",
                            "      <td>NaN</td>\n",
                            "      <td>NaN</td>\n",
                            "      <td>f</td>\n",
                            "      <td>NaN</td>\n",
                            "      <td>NaN</td>\n",
                            "      <td>f</td>\n",
                            "      <td>f</td>\n",
                            "      <td>strict_14_with_grace_period</td>\n",
                            "      <td>f</td>\n",
                            "      <td>f</td>\n",
                            "      <td>NaN</td>\n",
                            "    </tr>\n",
                            "    <tr>\n",
                            "      <th>1002</th>\n",
                            "      <td>468613</td>\n",
                            "      <td>NaN</td>\n",
                            "      <td>NaN</td>\n",
                            "      <td>NaN</td>\n",
                            "      <td>f</td>\n",
                            "      <td>1.0</td>\n",
                            "      <td>1.0</td>\n",
                            "      <td>['email', 'phone', 'facebook', 'reviews', 'kba']</td>\n",
                            "      <td>t</td>\n",
                            "      <td>t</td>\n",
                            "      <td>Manhattan</td>\n",
                            "      <td>40.72152</td>\n",
                            "      <td>-73.99279</td>\n",
                            "      <td>t</td>\n",
                            "      <td>Apartment</td>\n",
                            "      <td>Private room</td>\n",
                            "      <td>1</td>\n",
                            "      <td>NaN</td>\n",
                            "      <td>1.0</td>\n",
                            "      <td>NaN</td>\n",
                            "      <td>Real Bed</td>\n",
                            "      <td>{}</td>\n",
                            "      <td>NaN</td>\n",
                            "      <td>1300</td>\n",
                            "      <td>NaN</td>\n",
                            "      <td>NaN</td>\n",
                            "      <td>NaN</td>\n",
                            "      <td>1</td>\n",
                            "      <td>$0.00</td>\n",
                            "      <td>1</td>\n",
                            "      <td>1125</td>\n",
                            "      <td>t</td>\n",
                            "      <td>0</td>\n",
                            "      <td>0</td>\n",
                            "      <td>0</td>\n",
                            "      <td>0</td>\n",
                            "      <td>0</td>\n",
                            "      <td>0</td>\n",
                            "      <td>NaN</td>\n",
                            "      <td>NaN</td>\n",
                            "      <td>NaN</td>\n",
                            "      <td>NaN</td>\n",
                            "      <td>NaN</td>\n",
                            "      <td>NaN</td>\n",
                            "      <td>NaN</td>\n",
                            "      <td>f</td>\n",
                            "      <td>NaN</td>\n",
                            "      <td>NaN</td>\n",
                            "      <td>f</td>\n",
                            "      <td>f</td>\n",
                            "      <td>flexible</td>\n",
                            "      <td>f</td>\n",
                            "      <td>f</td>\n",
                            "      <td>NaN</td>\n",
                            "    </tr>\n",
                            "    <tr>\n",
                            "      <th>1058</th>\n",
                            "      <td>499249</td>\n",
                            "      <td>NaN</td>\n",
                            "      <td>NaN</td>\n",
                            "      <td>0%</td>\n",
                            "      <td>f</td>\n",
                            "      <td>1.0</td>\n",
                            "      <td>1.0</td>\n",
                            "      <td>['email', 'phone', 'reviews', 'offline_governm...</td>\n",
                            "      <td>t</td>\n",
                            "      <td>f</td>\n",
                            "      <td>Brooklyn</td>\n",
                            "      <td>40.70528</td>\n",
                            "      <td>-73.95756</td>\n",
                            "      <td>t</td>\n",
                            "      <td>Apartment</td>\n",
                            "      <td>Private room</td>\n",
                            "      <td>1</td>\n",
                            "      <td>NaN</td>\n",
                            "      <td>1.0</td>\n",
                            "      <td>NaN</td>\n",
                            "      <td>Real Bed</td>\n",
                            "      <td>{}</td>\n",
                            "      <td>NaN</td>\n",
                            "      <td>190</td>\n",
                            "      <td>NaN</td>\n",
                            "      <td>NaN</td>\n",
                            "      <td>$0.00</td>\n",
                            "      <td>1</td>\n",
                            "      <td>$100.00</td>\n",
                            "      <td>1</td>\n",
                            "      <td>218</td>\n",
                            "      <td>t</td>\n",
                            "      <td>30</td>\n",
                            "      <td>60</td>\n",
                            "      <td>90</td>\n",
                            "      <td>365</td>\n",
                            "      <td>1</td>\n",
                            "      <td>0</td>\n",
                            "      <td>NaN</td>\n",
                            "      <td>10.0</td>\n",
                            "      <td>8.0</td>\n",
                            "      <td>10.0</td>\n",
                            "      <td>10.0</td>\n",
                            "      <td>10.0</td>\n",
                            "      <td>10.0</td>\n",
                            "      <td>f</td>\n",
                            "      <td>NaN</td>\n",
                            "      <td>NaN</td>\n",
                            "      <td>t</td>\n",
                            "      <td>f</td>\n",
                            "      <td>strict_14_with_grace_period</td>\n",
                            "      <td>f</td>\n",
                            "      <td>f</td>\n",
                            "      <td>0.01</td>\n",
                            "    </tr>\n",
                            "    <tr>\n",
                            "      <th>1074</th>\n",
                            "      <td>505231</td>\n",
                            "      <td>NaN</td>\n",
                            "      <td>NaN</td>\n",
                            "      <td>NaN</td>\n",
                            "      <td>f</td>\n",
                            "      <td>1.0</td>\n",
                            "      <td>1.0</td>\n",
                            "      <td>['email', 'phone', 'reviews']</td>\n",
                            "      <td>t</td>\n",
                            "      <td>f</td>\n",
                            "      <td>Manhattan</td>\n",
                            "      <td>40.77799</td>\n",
                            "      <td>-73.95223</td>\n",
                            "      <td>t</td>\n",
                            "      <td>Apartment</td>\n",
                            "      <td>Private room</td>\n",
                            "      <td>1</td>\n",
                            "      <td>NaN</td>\n",
                            "      <td>1.0</td>\n",
                            "      <td>NaN</td>\n",
                            "      <td>Real Bed</td>\n",
                            "      <td>{}</td>\n",
                            "      <td>NaN</td>\n",
                            "      <td>80</td>\n",
                            "      <td>$700.00</td>\n",
                            "      <td>$3,000.00</td>\n",
                            "      <td>NaN</td>\n",
                            "      <td>1</td>\n",
                            "      <td>$0.00</td>\n",
                            "      <td>1</td>\n",
                            "      <td>60</td>\n",
                            "      <td>t</td>\n",
                            "      <td>0</td>\n",
                            "      <td>0</td>\n",
                            "      <td>0</td>\n",
                            "      <td>0</td>\n",
                            "      <td>1</td>\n",
                            "      <td>0</td>\n",
                            "      <td>100.0</td>\n",
                            "      <td>10.0</td>\n",
                            "      <td>10.0</td>\n",
                            "      <td>10.0</td>\n",
                            "      <td>10.0</td>\n",
                            "      <td>10.0</td>\n",
                            "      <td>10.0</td>\n",
                            "      <td>f</td>\n",
                            "      <td>NaN</td>\n",
                            "      <td>NaN</td>\n",
                            "      <td>f</td>\n",
                            "      <td>f</td>\n",
                            "      <td>moderate</td>\n",
                            "      <td>f</td>\n",
                            "      <td>f</td>\n",
                            "      <td>0.01</td>\n",
                            "    </tr>\n",
                            "    <tr>\n",
                            "      <th>1208</th>\n",
                            "      <td>587519</td>\n",
                            "      <td>NaN</td>\n",
                            "      <td>NaN</td>\n",
                            "      <td>0%</td>\n",
                            "      <td>f</td>\n",
                            "      <td>1.0</td>\n",
                            "      <td>1.0</td>\n",
                            "      <td>['email', 'phone', 'facebook', 'reviews']</td>\n",
                            "      <td>t</td>\n",
                            "      <td>f</td>\n",
                            "      <td>Brooklyn</td>\n",
                            "      <td>40.71099</td>\n",
                            "      <td>-73.95217</td>\n",
                            "      <td>t</td>\n",
                            "      <td>Apartment</td>\n",
                            "      <td>Private room</td>\n",
                            "      <td>1</td>\n",
                            "      <td>1.0</td>\n",
                            "      <td>1.0</td>\n",
                            "      <td>NaN</td>\n",
                            "      <td>Real Bed</td>\n",
                            "      <td>{}</td>\n",
                            "      <td>NaN</td>\n",
                            "      <td>48</td>\n",
                            "      <td>NaN</td>\n",
                            "      <td>NaN</td>\n",
                            "      <td>NaN</td>\n",
                            "      <td>1</td>\n",
                            "      <td>$0.00</td>\n",
                            "      <td>5</td>\n",
                            "      <td>30</td>\n",
                            "      <td>t</td>\n",
                            "      <td>0</td>\n",
                            "      <td>0</td>\n",
                            "      <td>0</td>\n",
                            "      <td>0</td>\n",
                            "      <td>1</td>\n",
                            "      <td>0</td>\n",
                            "      <td>80.0</td>\n",
                            "      <td>6.0</td>\n",
                            "      <td>6.0</td>\n",
                            "      <td>10.0</td>\n",
                            "      <td>10.0</td>\n",
                            "      <td>10.0</td>\n",
                            "      <td>6.0</td>\n",
                            "      <td>f</td>\n",
                            "      <td>NaN</td>\n",
                            "      <td>NaN</td>\n",
                            "      <td>f</td>\n",
                            "      <td>f</td>\n",
                            "      <td>flexible</td>\n",
                            "      <td>f</td>\n",
                            "      <td>f</td>\n",
                            "      <td>0.02</td>\n",
                            "    </tr>\n",
                            "  </tbody>\n",
                            "</table>\n",
                            "</div>"
                        ],
                        "text/plain": [
                            "          id host_response_time host_response_rate host_acceptance_rate  \\\n",
                            "808   321845                NaN                NaN                  NaN   \n",
                            "1002  468613                NaN                NaN                  NaN   \n",
                            "1058  499249                NaN                NaN                   0%   \n",
                            "1074  505231                NaN                NaN                  NaN   \n",
                            "1208  587519                NaN                NaN                   0%   \n",
                            "\n",
                            "     host_is_superhost  host_listings_count  host_total_listings_count  \\\n",
                            "808                  f                  0.0                        0.0   \n",
                            "1002                 f                  1.0                        1.0   \n",
                            "1058                 f                  1.0                        1.0   \n",
                            "1074                 f                  1.0                        1.0   \n",
                            "1208                 f                  1.0                        1.0   \n",
                            "\n",
                            "                                     host_verifications host_has_profile_pic  \\\n",
                            "808                                           ['email']                    t   \n",
                            "1002   ['email', 'phone', 'facebook', 'reviews', 'kba']                    t   \n",
                            "1058  ['email', 'phone', 'reviews', 'offline_governm...                    t   \n",
                            "1074                      ['email', 'phone', 'reviews']                    t   \n",
                            "1208          ['email', 'phone', 'facebook', 'reviews']                    t   \n",
                            "\n",
                            "     host_identity_verified neighborhood  latitude  longitude  \\\n",
                            "808                       f    Manhattan  40.70850  -74.01795   \n",
                            "1002                      t    Manhattan  40.72152  -73.99279   \n",
                            "1058                      f     Brooklyn  40.70528  -73.95756   \n",
                            "1074                      f    Manhattan  40.77799  -73.95223   \n",
                            "1208                      f     Brooklyn  40.71099  -73.95217   \n",
                            "\n",
                            "     is_location_exact property_type     room_type  accommodates  bathrooms  \\\n",
                            "808                  t     Apartment  Private room             2        NaN   \n",
                            "1002                 t     Apartment  Private room             1        NaN   \n",
                            "1058                 t     Apartment  Private room             1        NaN   \n",
                            "1074                 t     Apartment  Private room             1        NaN   \n",
                            "1208                 t     Apartment  Private room             1        1.0   \n",
                            "\n",
                            "      bedrooms  beds  bed_type amenities  square_feet  price weekly_price  \\\n",
                            "808        1.0   NaN  Real Bed        {}          NaN    150      $500.00   \n",
                            "1002       1.0   NaN  Real Bed        {}          NaN   1300          NaN   \n",
                            "1058       1.0   NaN  Real Bed        {}          NaN    190          NaN   \n",
                            "1074       1.0   NaN  Real Bed        {}          NaN     80      $700.00   \n",
                            "1208       1.0   NaN  Real Bed        {}          NaN     48          NaN   \n",
                            "\n",
                            "     monthly_price security_deposit  guests_included extra_people  \\\n",
                            "808      $1,600.00              NaN                1        $0.00   \n",
                            "1002           NaN              NaN                1        $0.00   \n",
                            "1058           NaN            $0.00                1      $100.00   \n",
                            "1074     $3,000.00              NaN                1        $0.00   \n",
                            "1208           NaN              NaN                1        $0.00   \n",
                            "\n",
                            "      minimum_nights  maximum_nights has_availability  availability_30  \\\n",
                            "808                1            1125                t               30   \n",
                            "1002               1            1125                t                0   \n",
                            "1058               1             218                t               30   \n",
                            "1074               1              60                t                0   \n",
                            "1208               5              30                t                0   \n",
                            "\n",
                            "      availability_60  availability_90  availability_365  number_of_reviews  \\\n",
                            "808                60               90               365                  0   \n",
                            "1002                0                0                 0                  0   \n",
                            "1058               60               90               365                  1   \n",
                            "1074                0                0                 0                  1   \n",
                            "1208                0                0                 0                  1   \n",
                            "\n",
                            "      number_of_reviews_ltm  review_scores_rating  review_scores_accuracy  \\\n",
                            "808                       0                   NaN                     NaN   \n",
                            "1002                      0                   NaN                     NaN   \n",
                            "1058                      0                   NaN                    10.0   \n",
                            "1074                      0                 100.0                    10.0   \n",
                            "1208                      0                  80.0                     6.0   \n",
                            "\n",
                            "      review_scores_cleanliness  review_scores_checkin  \\\n",
                            "808                         NaN                    NaN   \n",
                            "1002                        NaN                    NaN   \n",
                            "1058                        8.0                   10.0   \n",
                            "1074                       10.0                   10.0   \n",
                            "1208                        6.0                   10.0   \n",
                            "\n",
                            "      review_scores_communication  review_scores_location  \\\n",
                            "808                           NaN                     NaN   \n",
                            "1002                          NaN                     NaN   \n",
                            "1058                         10.0                    10.0   \n",
                            "1074                         10.0                    10.0   \n",
                            "1208                         10.0                    10.0   \n",
                            "\n",
                            "      review_scores_value requires_license license jurisdiction_names  \\\n",
                            "808                   NaN                f     NaN                NaN   \n",
                            "1002                  NaN                f     NaN                NaN   \n",
                            "1058                 10.0                f     NaN                NaN   \n",
                            "1074                 10.0                f     NaN                NaN   \n",
                            "1208                  6.0                f     NaN                NaN   \n",
                            "\n",
                            "     instant_bookable is_business_travel_ready          cancellation_policy  \\\n",
                            "808                 f                        f  strict_14_with_grace_period   \n",
                            "1002                f                        f                     flexible   \n",
                            "1058                t                        f  strict_14_with_grace_period   \n",
                            "1074                f                        f                     moderate   \n",
                            "1208                f                        f                     flexible   \n",
                            "\n",
                            "     require_guest_profile_picture require_guest_phone_verification  \\\n",
                            "808                              f                                f   \n",
                            "1002                             f                                f   \n",
                            "1058                             f                                f   \n",
                            "1074                             f                                f   \n",
                            "1208                             f                                f   \n",
                            "\n",
                            "      reviews_per_month  \n",
                            "808                 NaN  \n",
                            "1002                NaN  \n",
                            "1058               0.01  \n",
                            "1074               0.01  \n",
                            "1208               0.02  "
                        ]
                    },
                    "execution_count": 7,
                    "metadata": {},
                    "output_type": "execute_result"
                }
            ],
            "source": [
                "# Q4\n",
                "df[df[\"beds\"].isnull()].head()"
            ]
        },
        {
            "cell_type": "markdown",
            "metadata": {
                "id": "aG4VKbWVfcpM"
            },
            "source": [
                "---\n",
                "\n",
                "### 3) 범주형 변수 확인\n",
                "\n",
                "<font color='gray'> - 편의를 위해 결측치가 있는 컬럼을 모두 제거하고 진행하겠습니다.\n"
            ]
        },
        {
            "cell_type": "code",
            "execution_count": 8,
            "metadata": {
                "id": "82BUbKO1fcpM"
            },
            "outputs": [],
            "source": [
                "drop_col = [\n",
                "    \"jurisdiction_names\",\n",
                "    \"license\",\n",
                "    \"square_feet\",\n",
                "    \"monthly_price\",\n",
                "    \"weekly_price\",\n",
                "    \"host_response_rate\",\n",
                "    \"host_response_time\",\n",
                "    \"security_deposit\",\n",
                "    \"host_acceptance_rate\",\n",
                "    \"review_scores_location\",\n",
                "    \"review_scores_value\",\n",
                "    \"review_scores_checkin\",\n",
                "    \"review_scores_accuracy\",\n",
                "    \"review_scores_communication\",\n",
                "    \"review_scores_cleanliness\",\n",
                "    \"review_scores_rating\",\n",
                "    \"reviews_per_month\",\n",
                "    \"beds\",\n",
                "]"
            ]
        },
        {
            "cell_type": "code",
            "execution_count": 9,
            "metadata": {
                "id": "pgWTlyZ0fcpO"
            },
            "outputs": [],
            "source": [
                "df = df.drop(columns=drop_col)"
            ]
        },
        {
            "cell_type": "markdown",
            "metadata": {
                "id": "9uEFs_yxfcpR"
            },
            "source": [
                "- #### 각 컬럼별 변수 타입 확인\n"
            ]
        },
        {
            "cell_type": "code",
            "execution_count": 10,
            "metadata": {
                "colab": {
                    "base_uri": "https://localhost:8080/"
                },
                "executionInfo": {
                    "elapsed": 340,
                    "status": "ok",
                    "timestamp": 1642696462889,
                    "user": {
                        "displayName": "‍박슬빈(학부학생/이과대학 지구시스템과학)",
                        "photoUrl": "https://lh3.googleusercontent.com/a/default-user=s64",
                        "userId": "17574256723394630016"
                    },
                    "user_tz": -540
                },
                "id": "C52vx5OEfcpR",
                "outputId": "c64b7834-6849-4b24-ae36-3b321f8da6be"
            },
            "outputs": [
                {
                    "name": "stdout",
                    "output_type": "stream",
                    "text": [
                        "<class 'pandas.core.frame.DataFrame'>\n",
                        "Index: 50796 entries, 0 to 50795\n",
                        "Data columns (total 36 columns):\n",
                        " #   Column                            Non-Null Count  Dtype  \n",
                        "---  ------                            --------------  -----  \n",
                        " 0   id                                50796 non-null  int64  \n",
                        " 1   host_is_superhost                 50791 non-null  object \n",
                        " 2   host_listings_count               50791 non-null  float64\n",
                        " 3   host_total_listings_count         50791 non-null  float64\n",
                        " 4   host_verifications                50791 non-null  object \n",
                        " 5   host_has_profile_pic              50791 non-null  object \n",
                        " 6   host_identity_verified            50791 non-null  object \n",
                        " 7   neighborhood                      50796 non-null  object \n",
                        " 8   latitude                          50796 non-null  float64\n",
                        " 9   longitude                         50796 non-null  float64\n",
                        " 10  is_location_exact                 50796 non-null  object \n",
                        " 11  property_type                     50796 non-null  object \n",
                        " 12  room_type                         50796 non-null  object \n",
                        " 13  accommodates                      50796 non-null  int64  \n",
                        " 14  bathrooms                         50742 non-null  float64\n",
                        " 15  bedrooms                          50719 non-null  float64\n",
                        " 16  bed_type                          50796 non-null  object \n",
                        " 17  amenities                         50796 non-null  object \n",
                        " 18  price                             50796 non-null  int64  \n",
                        " 19  guests_included                   50796 non-null  int64  \n",
                        " 20  extra_people                      50796 non-null  object \n",
                        " 21  minimum_nights                    50796 non-null  int64  \n",
                        " 22  maximum_nights                    50796 non-null  int64  \n",
                        " 23  has_availability                  50796 non-null  object \n",
                        " 24  availability_30                   50796 non-null  int64  \n",
                        " 25  availability_60                   50796 non-null  int64  \n",
                        " 26  availability_90                   50796 non-null  int64  \n",
                        " 27  availability_365                  50796 non-null  int64  \n",
                        " 28  number_of_reviews                 50796 non-null  int64  \n",
                        " 29  number_of_reviews_ltm             50796 non-null  int64  \n",
                        " 30  requires_license                  50796 non-null  object \n",
                        " 31  instant_bookable                  50796 non-null  object \n",
                        " 32  is_business_travel_ready          50796 non-null  object \n",
                        " 33  cancellation_policy               50796 non-null  object \n",
                        " 34  require_guest_profile_picture     50796 non-null  object \n",
                        " 35  require_guest_phone_verification  50796 non-null  object \n",
                        "dtypes: float64(6), int64(12), object(18)\n",
                        "memory usage: 14.3+ MB\n"
                    ]
                }
            ],
            "source": [
                "df.info()"
            ]
        },
        {
            "cell_type": "markdown",
            "metadata": {
                "id": "wmmKNpDffcpT"
            },
            "source": [
                "- #### <font color='orange'> Q5. Room Type 에는 어떤 것들이 있는지 살펴보겠습니다.\n",
                "\n",
                "#### <font color='orange'> room_type의 종류별 갯수에 대한 그래프를 그려주세요.\n"
            ]
        },
        {
            "cell_type": "code",
            "execution_count": 11,
            "metadata": {
                "colab": {
                    "base_uri": "https://localhost:8080/",
                    "height": 298
                },
                "executionInfo": {
                    "elapsed": 344,
                    "status": "ok",
                    "timestamp": 1642696523002,
                    "user": {
                        "displayName": "‍박슬빈(학부학생/이과대학 지구시스템과학)",
                        "photoUrl": "https://lh3.googleusercontent.com/a/default-user=s64",
                        "userId": "17574256723394630016"
                    },
                    "user_tz": -540
                },
                "id": "L5NgpaZAfcpU",
                "outputId": "5a4ece78-0bc9-427b-9df8-cf950984397c"
            },
            "outputs": [
                {
                    "data": {
                        "text/plain": [
                            "<Axes: xlabel='room_type'>"
                        ]
                    },
                    "execution_count": 11,
                    "metadata": {},
                    "output_type": "execute_result"
                },
                {
                    "data": {
                        "image/png": "[encoded data removed]",
                        "text/plain": [
                            "<Figure size 640x480 with 1 Axes>"
                        ]
                    },
                    "metadata": {},
                    "output_type": "display_data"
                }
            ],
            "source": [
                "# Q5\n",
                "df[\"room_type\"].value_counts().plot.bar()"
            ]
        },
        {
            "cell_type": "markdown",
            "metadata": {
                "id": "tDraukBJfcpW"
            },
            "source": [
                "- #### <font color='orange'> Q6. 위 그래프의 세로축이 갯수가 아닌 비율을 나타내도록 재구성해보세요.\n"
            ]
        },
        {
            "cell_type": "code",
            "execution_count": 12,
            "metadata": {
                "colab": {
                    "base_uri": "https://localhost:8080/",
                    "height": 283
                },
                "executionInfo": {
                    "elapsed": 377,
                    "status": "ok",
                    "timestamp": 1642697180025,
                    "user": {
                        "displayName": "‍박슬빈(학부학생/이과대학 지구시스템과학)",
                        "photoUrl": "https://lh3.googleusercontent.com/a/default-user=s64",
                        "userId": "17574256723394630016"
                    },
                    "user_tz": -540
                },
                "id": "0Sw6cCs0fcpW",
                "outputId": "0aac30dd-8b3d-4055-c21d-213cc56f376b"
            },
            "outputs": [
                {
                    "data": {
                        "text/plain": [
                            "<Axes: xlabel='room_type'>"
                        ]
                    },
                    "execution_count": 12,
                    "metadata": {},
                    "output_type": "execute_result"
                },
                {
                    "data": {
                        "image/png": "[encoded data removed]",
                        "text/plain": [
                            "<Figure size 640x480 with 1 Axes>"
                        ]
                    },
                    "metadata": {},
                    "output_type": "display_data"
                }
            ],
            "source": [
                "# Q6\n",
                "df[\"room_type\"].value_counts().map(lambda x: x / len(df)).plot.bar()"
            ]
        },
        {
            "cell_type": "markdown",
            "metadata": {
                "id": "iN06xvJufcpZ"
            },
            "source": [
                "- #### <font color='orange'> Q7. 각 지역별로 room_type의 비율이 어땠는 지 알고 싶습니다.\n",
                "\n",
                "#### <font color='orange'> 아래 그래프와 같이 각 지역별로 room_type의 갯수가 어땠는지 보여주세요.\n"
            ]
        },
        {
            "cell_type": "code",
            "execution_count": 16,
            "metadata": {
                "colab": {
                    "base_uri": "https://localhost:8080/",
                    "height": 406
                },
                "executionInfo": {
                    "elapsed": 762,
                    "status": "ok",
                    "timestamp": 1642697301150,
                    "user": {
                        "displayName": "‍박슬빈(학부학생/이과대학 지구시스템과학)",
                        "photoUrl": "https://lh3.googleusercontent.com/a/default-user=s64",
                        "userId": "17574256723394630016"
                    },
                    "user_tz": -540
                },
                "id": "wAXnxXDVfcpa",
                "outputId": "6b49395c-0746-4d4f-ae2c-ab99313850d4"
            },
            "outputs": [
                {
                    "data": {
                        "image/png": "[encoded data removed]",
                        "text/plain": [
                            "<Figure size 640x480 with 1 Axes>"
                        ]
                    },
                    "metadata": {},
                    "output_type": "display_data"
                }
            ],
            "source": [
                "# Q7\n",
                "sns.set()\n",
                "sns.countplot(data=df, x=\"neighborhood\", hue=\"room_type\")\n",
                "plt.show()"
            ]
        },
        {
            "cell_type": "markdown",
            "metadata": {
                "id": "UA5MIpa0fcpg"
            },
            "source": [
                "- #### <font color='orange'> Q8. 각 지역별로 가격의 분포가 어떤지 알고 싶습니다.\n",
                "\n",
                "#### <font color='orange'> 아래 그래프와 같이 각 지역별로 가격의 분포를 보여주세요.\n"
            ]
        },
        {
            "cell_type": "code",
            "execution_count": 17,
            "metadata": {
                "colab": {
                    "base_uri": "https://localhost:8080/",
                    "height": 406
                },
                "executionInfo": {
                    "elapsed": 1131,
                    "status": "ok",
                    "timestamp": 1642697426063,
                    "user": {
                        "displayName": "‍박슬빈(학부학생/이과대학 지구시스템과학)",
                        "photoUrl": "https://lh3.googleusercontent.com/a/default-user=s64",
                        "userId": "17574256723394630016"
                    },
                    "user_tz": -540
                },
                "id": "7tcvOOZmfcpg",
                "outputId": "ee0e4735-2441-418e-d5b7-da745a1ee3c4",
                "scrolled": true
            },
            "outputs": [
                {
                    "data": {
                        "text/plain": [
                            "<Axes: xlabel='neighborhood', ylabel='price'>"
                        ]
                    },
                    "execution_count": 17,
                    "metadata": {},
                    "output_type": "execute_result"
                },
                {
                    "data": {
                        "image/png": "[encoded data removed]",
                        "text/plain": [
                            "<Figure size 1000x400 with 1 Axes>"
                        ]
                    },
                    "metadata": {},
                    "output_type": "display_data"
                }
            ],
            "source": [
                "# Q8\n",
                "# plt.figure() 여기부턴 직접 사이즈 조절해보세요\n",
                "plt.figure(figsize=(10, 4))\n",
                "sns.stripplot(\n",
                "    data=df, x=\"neighborhood\", y=\"price\", hue=\"neighborhood\", jitter=0.1, size=3\n",
                ")"
            ]
        },
        {
            "cell_type": "markdown",
            "metadata": {
                "id": "xVaZ98NWfcpj"
            },
            "source": [
                "- #### <font color='orange'> Q9. 위 그래프들로부터 알 수 있는 사실은 무엇인가요? 그 이유는 무엇이라고 생각하시나요?\n"
            ]
        },
        {
            "cell_type": "markdown",
            "metadata": {},
            "source": [
                "Room_type과 price는 지역에 종속적이라고 볼 수 있습니다.\n",
                "Manhattan과 Brooklyn은 방의 개수가 많고, 가격도 상대적으로 높습니다.\n",
                "특히 가격이 가장 비싼 편인 Manhattan은, 방의 개수가 비슷하지만 가격이 더 저렴한 편인 Brooklyn에 비해 Entire home/apt의 비율이 높습니다.\n"
            ]
        },
        {
            "cell_type": "markdown",
            "metadata": {
                "id": "orxw6U8C2eK5"
            },
            "source": [
                "---\n",
                "\n",
                "### 4) 연속형 변수 확인\n"
            ]
        },
        {
            "cell_type": "markdown",
            "metadata": {
                "id": "fnmWOYOnfcpn"
            },
            "source": [
                "- #### <font color='orange'> Q10. 각 방의 수용가능인원의 분포를 알고싶습니다.\n",
                "\n",
                "#### <font color='orange'> 'accommodates' 칼럼에 대한 히스토그램을 그려주세요.\n"
            ]
        },
        {
            "cell_type": "code",
            "execution_count": 20,
            "metadata": {
                "colab": {
                    "base_uri": "https://localhost:8080/",
                    "height": 374
                },
                "executionInfo": {
                    "elapsed": 461,
                    "status": "ok",
                    "timestamp": 1642697867321,
                    "user": {
                        "displayName": "‍박슬빈(학부학생/이과대학 지구시스템과학)",
                        "photoUrl": "https://lh3.googleusercontent.com/a/default-user=s64",
                        "userId": "17574256723394630016"
                    },
                    "user_tz": -540
                },
                "id": "P4Ttc5iGfcpo",
                "outputId": "34d5c712-d0b8-4c4b-f8cf-f1df02473f31"
            },
            "outputs": [
                {
                    "data": {
                        "text/plain": [
                            "<Axes: >"
                        ]
                    },
                    "execution_count": 20,
                    "metadata": {},
                    "output_type": "execute_result"
                },
                {
                    "data": {
                        "image/png": "[encoded data removed]",
                        "text/plain": [
                            "<Figure size 640x480 with 1 Axes>"
                        ]
                    },
                    "metadata": {},
                    "output_type": "display_data"
                }
            ],
            "source": [
                "# Q10\n",
                "df[\"accommodates\"].hist(bins=20)"
            ]
        },
        {
            "cell_type": "markdown",
            "metadata": {
                "id": "Likx5P43fcpr"
            },
            "source": [
                "- #### <font color='orange'> Q11. 각 방의 가격의 분포를 알고 싶습니다.\n",
                "\n",
                "#### <font color='orange'> 'price' 칼럼에 대한 히스토그램을 그려주세요. 범위는 0~1000까지만 보여주세요.\n"
            ]
        },
        {
            "cell_type": "code",
            "execution_count": 38,
            "metadata": {
                "colab": {
                    "base_uri": "https://localhost:8080/",
                    "height": 374
                },
                "executionInfo": {
                    "elapsed": 394,
                    "status": "ok",
                    "timestamp": 1642697967980,
                    "user": {
                        "displayName": "‍박슬빈(학부학생/이과대학 지구시스템과학)",
                        "photoUrl": "https://lh3.googleusercontent.com/a/default-user=s64",
                        "userId": "17574256723394630016"
                    },
                    "user_tz": -540
                },
                "id": "PM4oic9Ffcpr",
                "outputId": "b2bb1a5d-2c46-406f-823d-25579b2aff10"
            },
            "outputs": [
                {
                    "data": {
                        "text/plain": [
                            "<Axes: >"
                        ]
                    },
                    "execution_count": 38,
                    "metadata": {},
                    "output_type": "execute_result"
                },
                {
                    "data": {
                        "image/png": "[encoded data removed]",
                        "text/plain": [
                            "<Figure size 640x480 with 1 Axes>"
                        ]
                    },
                    "metadata": {},
                    "output_type": "display_data"
                }
            ],
            "source": [
                "# Q11\n",
                "df[df[\"price\"] <= 1000][\"price\"].hist(bins=50)"
            ]
        },
        {
            "cell_type": "markdown",
            "metadata": {
                "id": "bhGUNQPlfcpw"
            },
            "source": [
                "- **굵은 텍스트** Q3 hint\n",
                "\n",
                "<font color='white'> x축 라벨을 45도 기울이려면 plot.set_xticklabels()을 찾아보세요. </font>\n"
            ]
        },
        {
            "cell_type": "markdown",
            "metadata": {
                "id": "q5EAhuiwOtoF"
            },
            "source": [
                "---\n",
                "\n",
                "### 5) Feature Engineering\n"
            ]
        },
        {
            "cell_type": "markdown",
            "metadata": {
                "id": "OvWz2cW6OtoF"
            },
            "source": [
                "feature에 대한 전처리를 하기 이전에 결측치가 있는 column을 모두 제거했는데, 다시 초기 상태로 되돌리고 진행하겠습니다.\n"
            ]
        },
        {
            "cell_type": "code",
            "execution_count": 41,
            "metadata": {
                "id": "0mbR4Ve-OtoG"
            },
            "outputs": [
                {
                    "name": "stderr",
                    "output_type": "stream",
                    "text": [
                        "/var/folders/x1/tzlfd4112pvbltq49sgc2lxc0000gp/T/ipykernel_7442/725923707.py:1: DtypeWarning: Columns (25,26,47) have mixed types. Specify dtype option on import or set low_memory=False.\n",
                        "  df = pd.read_csv(\"airbnb_listings.csv\", index_col=0)\n"
                    ]
                }
            ],
            "source": [
                "df = pd.read_csv(\"airbnb_listings.csv\", index_col=0)"
            ]
        },
        {
            "cell_type": "markdown",
            "metadata": {
                "id": "recHa15QOtoG"
            },
            "source": [
                "- #### <font color='orange'> Q12. 결측치에 대한 처리를 하고 싶습니다.\n",
                "\n",
                "#### <font color='orange'> 주어진 모든 column들에 대하여 결측치가 25%이상인 경우에는 column을 drop하고 10%이상 25%미만인 경우에는 결측치가 있는 row만 drop하고, 10%미만인 경우에는 중앙값으로 대체해주세요.\n"
            ]
        },
        {
            "cell_type": "code",
            "execution_count": 42,
            "metadata": {
                "id": "muau0X3MOtoG"
            },
            "outputs": [],
            "source": [
                "# Q12\n",
                "size = len(df)\n",
                "df.dropna(thresh=int(size * 0.75), axis=1, inplace=True)\n",
                "columns_to_drop_row = df.columns[df.isnull().sum(axis=0) < int(size * 0.25)]\n",
                "df.dropna(subset=columns_to_drop_row, axis=0, inplace=True)\n",
                "df.fillna(df.median(numeric_only=True), inplace=True)"
            ]
        },
        {
            "cell_type": "code",
            "execution_count": 43,
            "metadata": {},
            "outputs": [
                {
                    "name": "stdout",
                    "output_type": "stream",
                    "text": [
                        "<class 'pandas.core.frame.DataFrame'>\n",
                        "Index: 39091 entries, 1 to 50694\n",
                        "Data columns (total 45 columns):\n",
                        " #   Column                            Non-Null Count  Dtype  \n",
                        "---  ------                            --------------  -----  \n",
                        " 0   id                                39091 non-null  int64  \n",
                        " 1   host_is_superhost                 39091 non-null  object \n",
                        " 2   host_listings_count               39091 non-null  float64\n",
                        " 3   host_total_listings_count         39091 non-null  float64\n",
                        " 4   host_verifications                39091 non-null  object \n",
                        " 5   host_has_profile_pic              39091 non-null  object \n",
                        " 6   host_identity_verified            39091 non-null  object \n",
                        " 7   neighborhood                      39091 non-null  object \n",
                        " 8   latitude                          39091 non-null  float64\n",
                        " 9   longitude                         39091 non-null  float64\n",
                        " 10  is_location_exact                 39091 non-null  object \n",
                        " 11  property_type                     39091 non-null  object \n",
                        " 12  room_type                         39091 non-null  object \n",
                        " 13  accommodates                      39091 non-null  int64  \n",
                        " 14  bathrooms                         39091 non-null  float64\n",
                        " 15  bedrooms                          39091 non-null  float64\n",
                        " 16  beds                              39091 non-null  float64\n",
                        " 17  bed_type                          39091 non-null  object \n",
                        " 18  amenities                         39091 non-null  object \n",
                        " 19  price                             39091 non-null  int64  \n",
                        " 20  guests_included                   39091 non-null  int64  \n",
                        " 21  extra_people                      39091 non-null  object \n",
                        " 22  minimum_nights                    39091 non-null  int64  \n",
                        " 23  maximum_nights                    39091 non-null  int64  \n",
                        " 24  has_availability                  39091 non-null  object \n",
                        " 25  availability_30                   39091 non-null  int64  \n",
                        " 26  availability_60                   39091 non-null  int64  \n",
                        " 27  availability_90                   39091 non-null  int64  \n",
                        " 28  availability_365                  39091 non-null  int64  \n",
                        " 29  number_of_reviews                 39091 non-null  int64  \n",
                        " 30  number_of_reviews_ltm             39091 non-null  int64  \n",
                        " 31  review_scores_rating              39091 non-null  float64\n",
                        " 32  review_scores_accuracy            39091 non-null  float64\n",
                        " 33  review_scores_cleanliness         39091 non-null  float64\n",
                        " 34  review_scores_checkin             39091 non-null  float64\n",
                        " 35  review_scores_communication       39091 non-null  float64\n",
                        " 36  review_scores_location            39091 non-null  float64\n",
                        " 37  review_scores_value               39091 non-null  float64\n",
                        " 38  requires_license                  39091 non-null  object \n",
                        " 39  instant_bookable                  39091 non-null  object \n",
                        " 40  is_business_travel_ready          39091 non-null  object \n",
                        " 41  cancellation_policy               39091 non-null  object \n",
                        " 42  require_guest_profile_picture     39091 non-null  object \n",
                        " 43  require_guest_phone_verification  39091 non-null  object \n",
                        " 44  reviews_per_month                 39091 non-null  float64\n",
                        "dtypes: float64(15), int64(12), object(18)\n",
                        "memory usage: 13.7+ MB\n"
                    ]
                }
            ],
            "source": [
                "df.info()"
            ]
        },
        {
            "cell_type": "code",
            "execution_count": 44,
            "metadata": {},
            "outputs": [
                {
                    "data": {
                        "text/plain": [
                            "Series([], dtype: int64)"
                        ]
                    },
                    "execution_count": 44,
                    "metadata": {},
                    "output_type": "execute_result"
                }
            ],
            "source": [
                "df.isnull().sum()[df.isnull().sum() > 0]"
            ]
        },
        {
            "cell_type": "markdown",
            "metadata": {
                "id": "W_o9k0XjOtoG"
            },
            "source": [
                "- #### <font color='orange'> Q13. 앞서 진행한 EDA를 바탕으로 FE를 진행하고자 합니다..\n",
                "\n",
                "#### <font color='orange'> 총 3개의 FE를 진행하시고, 해당 FE를 진행한 이유에 대해 **간단히** 작성해주세요.\n"
            ]
        },
        {
            "cell_type": "code",
            "execution_count": 45,
            "metadata": {
                "id": "43i8ZgXjOtoG"
            },
            "outputs": [
                {
                    "name": "stdout",
                    "output_type": "stream",
                    "text": [
                        "<class 'pandas.core.frame.DataFrame'>\n",
                        "Index: 39091 entries, 1 to 50694\n",
                        "Data columns (total 45 columns):\n",
                        " #   Column                            Non-Null Count  Dtype  \n",
                        "---  ------                            --------------  -----  \n",
                        " 0   id                                39091 non-null  int64  \n",
                        " 1   host_is_superhost                 39091 non-null  object \n",
                        " 2   host_listings_count               39091 non-null  float64\n",
                        " 3   host_total_listings_count         39091 non-null  float64\n",
                        " 4   host_verifications                39091 non-null  object \n",
                        " 5   host_has_profile_pic              39091 non-null  object \n",
                        " 6   host_identity_verified            39091 non-null  object \n",
                        " 7   neighborhood                      39091 non-null  object \n",
                        " 8   latitude                          39091 non-null  float64\n",
                        " 9   longitude                         39091 non-null  float64\n",
                        " 10  is_location_exact                 39091 non-null  object \n",
                        " 11  property_type                     39091 non-null  object \n",
                        " 12  room_type                         39091 non-null  object \n",
                        " 13  accommodates                      39091 non-null  int64  \n",
                        " 14  bathrooms                         39091 non-null  float64\n",
                        " 15  bedrooms                          39091 non-null  float64\n",
                        " 16  beds                              39091 non-null  float64\n",
                        " 17  bed_type                          39091 non-null  object \n",
                        " 18  amenities                         39091 non-null  object \n",
                        " 19  price                             39091 non-null  int64  \n",
                        " 20  guests_included                   39091 non-null  int64  \n",
                        " 21  extra_people                      39091 non-null  object \n",
                        " 22  minimum_nights                    39091 non-null  int64  \n",
                        " 23  maximum_nights                    39091 non-null  int64  \n",
                        " 24  has_availability                  39091 non-null  object \n",
                        " 25  availability_30                   39091 non-null  int64  \n",
                        " 26  availability_60                   39091 non-null  int64  \n",
                        " 27  availability_90                   39091 non-null  int64  \n",
                        " 28  availability_365                  39091 non-null  int64  \n",
                        " 29  number_of_reviews                 39091 non-null  int64  \n",
                        " 30  number_of_reviews_ltm             39091 non-null  int64  \n",
                        " 31  review_scores_rating              39091 non-null  float64\n",
                        " 32  review_scores_accuracy            39091 non-null  float64\n",
                        " 33  review_scores_cleanliness         39091 non-null  float64\n",
                        " 34  review_scores_checkin             39091 non-null  float64\n",
                        " 35  review_scores_communication       39091 non-null  float64\n",
                        " 36  review_scores_location            39091 non-null  float64\n",
                        " 37  review_scores_value               39091 non-null  float64\n",
                        " 38  requires_license                  39091 non-null  object \n",
                        " 39  instant_bookable                  39091 non-null  object \n",
                        " 40  is_business_travel_ready          39091 non-null  object \n",
                        " 41  cancellation_policy               39091 non-null  object \n",
                        " 42  require_guest_profile_picture     39091 non-null  object \n",
                        " 43  require_guest_phone_verification  39091 non-null  object \n",
                        " 44  reviews_per_month                 39091 non-null  float64\n",
                        "dtypes: float64(15), int64(12), object(18)\n",
                        "memory usage: 13.7+ MB\n"
                    ]
                }
            ],
            "source": [
                "# Q13-1)\n",
                "# `room_type` 과 `neighborhood` 에 encoding 적용으로 범주형 변수를 수치형 변수로 변환합니다. 범주 사이에 순서나 우열이 없으니 one-hot encoding을 적용합니다.\n",
                "# TODO: get_dummies 사용\n",
                "df[\"room_type\"] = df[\"room_type\"].map(\n",
                "    {\n",
                "        \"Private room\": [1, 0, 0, 0],\n",
                "        \"Entire home/apt\": [0, 1, 0, 0],\n",
                "        \"Shared room\": [0, 0, 1, 0],\n",
                "        \"Hotel room\": [0, 0, 0, 1],\n",
                "    }\n",
                ")\n",
                "df[\"neighborhood\"] = df[\"neighborhood\"].map(\n",
                "    {\n",
                "        \"Manhattan\": [1, 0, 0, 0, 0],\n",
                "        \"Brooklyn\": [0, 1, 0, 0, 0],\n",
                "        \"Queens\": [0, 0, 1, 0, 0],\n",
                "        \"Staten Island\": [0, 0, 0, 1, 0],\n",
                "        \"Bronx\": [0, 0, 0, 0, 1],\n",
                "    }\n",
                ")\n",
                "df.info()"
            ]
        },
        {
            "cell_type": "code",
            "execution_count": 46,
            "metadata": {},
            "outputs": [
                {
                    "data": {
                        "text/html": [
                            "<div>\n",
                            "<style scoped>\n",
                            "    .dataframe tbody tr th:only-of-type {\n",
                            "        vertical-align: middle;\n",
                            "    }\n",
                            "\n",
                            "    .dataframe tbody tr th {\n",
                            "        vertical-align: top;\n",
                            "    }\n",
                            "\n",
                            "    .dataframe thead th {\n",
                            "        text-align: right;\n",
                            "    }\n",
                            "</style>\n",
                            "<table border=\"1\" class=\"dataframe\">\n",
                            "  <thead>\n",
                            "    <tr style=\"text-align: right;\">\n",
                            "      <th></th>\n",
                            "      <th>latitude</th>\n",
                            "      <th>longitude</th>\n",
                            "    </tr>\n",
                            "  </thead>\n",
                            "  <tbody>\n",
                            "    <tr>\n",
                            "      <th>count</th>\n",
                            "      <td>39091.000000</td>\n",
                            "      <td>39091.000000</td>\n",
                            "    </tr>\n",
                            "    <tr>\n",
                            "      <th>mean</th>\n",
                            "      <td>40.728276</td>\n",
                            "      <td>-73.949589</td>\n",
                            "    </tr>\n",
                            "    <tr>\n",
                            "      <th>std</th>\n",
                            "      <td>0.055517</td>\n",
                            "      <td>0.048337</td>\n",
                            "    </tr>\n",
                            "    <tr>\n",
                            "      <th>min</th>\n",
                            "      <td>40.508680</td>\n",
                            "      <td>-74.239860</td>\n",
                            "    </tr>\n",
                            "    <tr>\n",
                            "      <th>25%</th>\n",
                            "      <td>40.688140</td>\n",
                            "      <td>-73.982510</td>\n",
                            "    </tr>\n",
                            "    <tr>\n",
                            "      <th>50%</th>\n",
                            "      <td>40.721980</td>\n",
                            "      <td>-73.954150</td>\n",
                            "    </tr>\n",
                            "    <tr>\n",
                            "      <th>75%</th>\n",
                            "      <td>40.763060</td>\n",
                            "      <td>-73.932320</td>\n",
                            "    </tr>\n",
                            "    <tr>\n",
                            "      <th>max</th>\n",
                            "      <td>40.910550</td>\n",
                            "      <td>-73.712990</td>\n",
                            "    </tr>\n",
                            "  </tbody>\n",
                            "</table>\n",
                            "</div>"
                        ],
                        "text/plain": [
                            "           latitude     longitude\n",
                            "count  39091.000000  39091.000000\n",
                            "mean      40.728276    -73.949589\n",
                            "std        0.055517      0.048337\n",
                            "min       40.508680    -74.239860\n",
                            "25%       40.688140    -73.982510\n",
                            "50%       40.721980    -73.954150\n",
                            "75%       40.763060    -73.932320\n",
                            "max       40.910550    -73.712990"
                        ]
                    },
                    "execution_count": 46,
                    "metadata": {},
                    "output_type": "execute_result"
                }
            ],
            "source": [
                "df[[\"latitude\", \"longitude\"]].describe()"
            ]
        },
        {
            "cell_type": "code",
            "execution_count": 47,
            "metadata": {
                "id": "KAlfllHSOtoG"
            },
            "outputs": [
                {
                    "data": {
                        "text/html": [
                            "<div>\n",
                            "<style scoped>\n",
                            "    .dataframe tbody tr th:only-of-type {\n",
                            "        vertical-align: middle;\n",
                            "    }\n",
                            "\n",
                            "    .dataframe tbody tr th {\n",
                            "        vertical-align: top;\n",
                            "    }\n",
                            "\n",
                            "    .dataframe thead th {\n",
                            "        text-align: right;\n",
                            "    }\n",
                            "</style>\n",
                            "<table border=\"1\" class=\"dataframe\">\n",
                            "  <thead>\n",
                            "    <tr style=\"text-align: right;\">\n",
                            "      <th></th>\n",
                            "      <th>latitude</th>\n",
                            "      <th>longitude</th>\n",
                            "    </tr>\n",
                            "  </thead>\n",
                            "  <tbody>\n",
                            "    <tr>\n",
                            "      <th>count</th>\n",
                            "      <td>39091.000000</td>\n",
                            "      <td>39091.000000</td>\n",
                            "    </tr>\n",
                            "    <tr>\n",
                            "      <th>mean</th>\n",
                            "      <td>0.546436</td>\n",
                            "      <td>0.550935</td>\n",
                            "    </tr>\n",
                            "    <tr>\n",
                            "      <th>std</th>\n",
                            "      <td>0.138145</td>\n",
                            "      <td>0.091744</td>\n",
                            "    </tr>\n",
                            "    <tr>\n",
                            "      <th>min</th>\n",
                            "      <td>0.000000</td>\n",
                            "      <td>0.000000</td>\n",
                            "    </tr>\n",
                            "    <tr>\n",
                            "      <th>25%</th>\n",
                            "      <td>0.446562</td>\n",
                            "      <td>0.488451</td>\n",
                            "    </tr>\n",
                            "    <tr>\n",
                            "      <th>50%</th>\n",
                            "      <td>0.530769</td>\n",
                            "      <td>0.542278</td>\n",
                            "    </tr>\n",
                            "    <tr>\n",
                            "      <th>75%</th>\n",
                            "      <td>0.632991</td>\n",
                            "      <td>0.583711</td>\n",
                            "    </tr>\n",
                            "    <tr>\n",
                            "      <th>max</th>\n",
                            "      <td>1.000000</td>\n",
                            "      <td>1.000000</td>\n",
                            "    </tr>\n",
                            "  </tbody>\n",
                            "</table>\n",
                            "</div>"
                        ],
                        "text/plain": [
                            "           latitude     longitude\n",
                            "count  39091.000000  39091.000000\n",
                            "mean       0.546436      0.550935\n",
                            "std        0.138145      0.091744\n",
                            "min        0.000000      0.000000\n",
                            "25%        0.446562      0.488451\n",
                            "50%        0.530769      0.542278\n",
                            "75%        0.632991      0.583711\n",
                            "max        1.000000      1.000000"
                        ]
                    },
                    "execution_count": 47,
                    "metadata": {},
                    "output_type": "execute_result"
                }
            ],
            "source": [
                "# Q13-2)\n",
                "# latitude, longitude는 5개 지역의 경위도에 bound될 것이므로, 스케일링을 통해 값의 범위를 줄여 유의미한 숫자로 변환합니다. 위에 describe한 것처럼 이상값은 없으므로 min-max scaling을 적용합니다.\n",
                "df[\"latitude\"] = (df[\"latitude\"] - df[\"latitude\"].min()) / (\n",
                "    df[\"latitude\"].max() - df[\"latitude\"].min()\n",
                ")\n",
                "df[\"longitude\"] = (df[\"longitude\"] - df[\"longitude\"].min()) / (\n",
                "    df[\"longitude\"].max() - df[\"longitude\"].min()\n",
                ")\n",
                "df[[\"latitude\", \"longitude\"]].describe()"
            ]
        },
        {
            "cell_type": "code",
            "execution_count": 48,
            "metadata": {
                "id": "gzHo_q-rOtoG"
            },
            "outputs": [],
            "source": [
                "# Q13-3)"
            ]
        },
        {
            "cell_type": "markdown",
            "metadata": {
                "id": "ZXHTpb4bfcpt"
            },
            "source": [
                "---\n",
                "EDA는 언뜻보면 불필요해 보이는 과정이지만, 실제 데이터를 다룰때 매우매우 중요한 과정입니다.\n",
                "\n",
                "때문에 기본적인 개념 및 시각화 방법은 숙지해 두시는 것이 좋습니다!\n",
                "\n",
                "또한 FE를 통하여 여러분들이 실제로 필요한 모델에 필요한 변수 형태를 띄게 변수를 바꿔주는 과정 또한 필수적인 과정이니, 다양한 방법의 FE 역시 숙지해 두시는 게 좋습니다\n",
                "---\n"
            ]
        },
        {
            "cell_type": "markdown",
            "metadata": {
                "id": "rAMzDDdVOtoH"
            },
            "source": [
                "- Q2 hint\n",
                "\n",
                "<font color='white'> df의 null의 개수를 센 다음에, \".to_frame()\" 을 써보세요.\n",
                "\n",
                "1. missingnum=df.isnull().sum()으로 우선 결측치확인\n",
                "2. missingnum>0조건 만족시키는 missingnum 확인하기\n",
                "3. missingnum을 column으로 하는 새로운 df생성\n",
                "4. 새로운 df sort하기\n",
                "5. missing\\_%를 새로운 column으로 추가\n",
                "   </font>\n"
            ]
        },
        {
            "cell_type": "markdown",
            "metadata": {
                "id": "zGsYY-WvOtoH"
            },
            "source": [
                "- **굵은 텍스트** Q3 hint\n",
                "\n",
                "<font color='white'> x축 라벨을 45도 기울이려면 plot.set_xticklabels()을 찾아보세요. </font>\n"
            ]
        }
    ],
    "metadata": {
        "colab": {
            "provenance": []
        },
        "kernelspec": {
            "display_name": "Python 3 (ipykernel)",
            "language": "python",
            "name": "python3"
        },
        "language_info": {
            "codemirror_mode": {
                "name": "ipython",
                "version": 3
            },
            "file_extension": ".py",
            "mimetype": "text/x-python",
            "name": "python",
            "nbconvert_exporter": "python",
            "pygments_lexer": "ipython3",
            "version": "3.11.1"
        }
    },
    "nbformat": 4,
    "nbformat_minor": 0
}
